{
  "cells": [
    {
      "cell_type": "code",
      "execution_count": null,
      "metadata": {
        "colab": {
          "background_save": true
        },
        "id": "5O3um6i8P2W2"
      },
      "outputs": [],
      "source": [
        "# import libraries\n",
        "import numpy as np\n",
        "import tensorflow as tf\n",
        "\n",
        "from tensorflow.keras.models import Sequential\n",
        "from tensorflow.keras.layers import Dense, Activation, Flatten\n",
        "from tensorflow.keras.losses import BinaryCrossentropy\n",
        "from sklearn.metrics import classification_report"
      ]
    },
    {
      "cell_type": "code",
      "execution_count": null,
      "metadata": {
        "id": "qVgNEyjOQA4r"
      },
      "outputs": [],
      "source": [
        "from google.colab import drive"
      ]
    },
    {
      "cell_type": "code",
      "execution_count": null,
      "metadata": {
        "colab": {
          "base_uri": "https://localhost:8080/"
        },
        "id": "GbzyLjl_QGjO",
        "outputId": "02c7ada8-1fbb-408d-e1e2-5135f57c4bfd"
      },
      "outputs": [
        {
          "name": "stdout",
          "output_type": "stream",
          "text": [
            "wanted shape: (8, 1)\n",
            "[array([[ 0.32426178],\n",
            "       [ 0.6161803 ],\n",
            "       [ 0.23147905],\n",
            "       [ 0.34872508],\n",
            "       [-0.78231525],\n",
            "       [-0.3218535 ],\n",
            "       [-0.09668458],\n",
            "       [-0.7337028 ]], dtype=float32), array([0.], dtype=float32)]\n",
            "[array([[ 3.55366],\n",
            "       [ 2.01605],\n",
            "       [-1.19409],\n",
            "       [-2.47392],\n",
            "       [-1.45932],\n",
            "       [ 0.28493],\n",
            "       [ 0.38204],\n",
            "       [ 0.     ]], dtype=float32), array([0.], dtype=float32)]\n",
            "Model: \"sequential_1\"\n",
            "_________________________________________________________________\n",
            " Layer (type)                Output Shape              Param #   \n",
            "=================================================================\n",
            " flatten_1 (Flatten)         (None, 8)                 0         \n",
            "                                                                 \n",
            " dense_1 (Dense)             (None, 1)                 9         \n",
            "                                                                 \n",
            "=================================================================\n",
            "Total params: 9\n",
            "Trainable params: 9\n",
            "Non-trainable params: 0\n",
            "_________________________________________________________________\n",
            "numer of tensors:  1\n"
          ]
        }
      ],
      "source": [
        "bias_and_weights = []\n",
        "\n",
        "#fake fourth weight for example\n",
        "new_weights = np.array([3.55366, 2.01605, -1.19409, -2.47392, -1.45932, 0.28493, 0.38204,0])\n",
        "new_weights = new_weights.reshape(8,1)\n",
        "bias = np.array([0]).reshape(1,)\n",
        "\n",
        "bias_and_weights.append(new_weights)\n",
        "bias_and_weights.append(bias)\n",
        "\n",
        "print(\"wanted shape:\", new_weights.shape)\n",
        "\n",
        "model = Sequential()\n",
        "model.add(Flatten(input_shape = new_weights.shape))\n",
        "model.add(Dense(1, activation = \"sigmoid\"))\n",
        "model.compile(loss = \"binary_crossentropy\")\n",
        "\n",
        "print(model.get_weights())\n",
        "\n",
        "model.set_weights(bias_and_weights)\n",
        "print(model.get_weights())\n",
        "\n",
        "model.intercept = -3.57712\n",
        "model.summary()\n",
        "\n",
        "print(\"numer of tensors: \", len(model.inputs))"
      ]
    },
    {
      "cell_type": "code",
      "execution_count": null,
      "metadata": {
        "colab": {
          "base_uri": "https://localhost:8080/"
        },
        "id": "1uA2II5v76iU",
        "outputId": "47496912-4e18-4633-8f7b-6fa77d71d199"
      },
      "outputs": [
        {
          "name": "stderr",
          "output_type": "stream",
          "text": [
            "WARNING:absl:Found untraced functions such as _update_step_xla while saving (showing 1 of 1). These functions will not be directly callable after loading.\n"
          ]
        }
      ],
      "source": [
        "# Convert the model.\n",
        "converter = tf.lite.TFLiteConverter.from_keras_model(model)\n",
        "tflite_model = converter.convert()\n",
        "\n",
        "# Save the model.\n",
        "with open('ebola4Features.tflite', 'wb') as f:\n",
        "  f.write(tflite_model)"
      ]
    },
    {
      "cell_type": "code",
      "execution_count": null,
      "metadata": {
        "colab": {
          "base_uri": "https://localhost:8080/"
        },
        "id": "qO3unYURyewZ",
        "outputId": "5c5880f9-5540-4505-8eca-682dd6c866b9"
      },
      "outputs": [
        {
          "name": "stdout",
          "output_type": "stream",
          "text": [
            "Requirement already satisfied: tflite-support-nightly in /usr/local/lib/python3.10/dist-packages (0.4.4.dev20230716)\n",
            "Requirement already satisfied: absl-py>=0.7.0 in /usr/local/lib/python3.10/dist-packages (from tflite-support-nightly) (1.4.0)\n",
            "Requirement already satisfied: numpy>=1.20.0 in /usr/local/lib/python3.10/dist-packages (from tflite-support-nightly) (1.23.5)\n",
            "Requirement already satisfied: flatbuffers>=2.0 in /usr/local/lib/python3.10/dist-packages (from tflite-support-nightly) (23.5.26)\n",
            "Requirement already satisfied: protobuf<4,>=3.18.0 in /usr/local/lib/python3.10/dist-packages (from tflite-support-nightly) (3.20.3)\n",
            "Requirement already satisfied: sounddevice>=0.4.4 in /usr/local/lib/python3.10/dist-packages (from tflite-support-nightly) (0.4.6)\n",
            "Requirement already satisfied: pybind11>=2.6.0 in /usr/local/lib/python3.10/dist-packages (from tflite-support-nightly) (2.11.1)\n",
            "Requirement already satisfied: CFFI>=1.0 in /usr/local/lib/python3.10/dist-packages (from sounddevice>=0.4.4->tflite-support-nightly) (1.15.1)\n",
            "Requirement already satisfied: pycparser in /usr/local/lib/python3.10/dist-packages (from CFFI>=1.0->sounddevice>=0.4.4->tflite-support-nightly) (2.21)\n"
          ]
        }
      ],
      "source": [
        "!pip install tflite-support-nightly"
      ]
    },
    {
      "cell_type": "code",
      "execution_count": null,
      "metadata": {
        "colab": {
          "base_uri": "https://localhost:8080/"
        },
        "id": "6LKE9GGAWtFF",
        "outputId": "51754582-dd7f-4325-831e-40dc72f521ad"
      },
      "outputs": [
        {
          "name": "stderr",
          "output_type": "stream",
          "text": [
            "/usr/local/lib/python3.10/dist-packages/tensorflow_lite_support/metadata/python/metadata.py:395: UserWarning: File, 'ebola4Features.tflite', does not exist in the metadata. But packing it to tflite model is still allowed.\n",
            "  warnings.warn(\n"
          ]
        }
      ],
      "source": [
        "from tflite_support import flatbuffers\n",
        "from tflite_support import metadata as _metadata\n",
        "from tflite_support import metadata_schema_py_generated as _metadata_fb\n",
        "\n",
        "\"\"\" ... \"\"\"\n",
        "\"\"\"Creates the metadata for an image classifier.\"\"\"\n",
        "\n",
        "# Creates model info.\n",
        "model_meta = _metadata_fb.ModelMetadataT()\n",
        "model_meta.name = \"EbolaDetection\"\n",
        "model_meta.description = (\"This model diagnoses whether a patient has Ebola or not depending on the variables bleeding (anywhere on the person), previous contact with an indvidual that has Ebola, and abdominal pain.\")\n",
        "model_meta.version = \"v1\"\n",
        "model_meta.author = \"Colabo Lab\"\n",
        "\n",
        "# Creates input info.\n",
        "input_meta1 = _metadata_fb.TensorMetadataT()\n",
        "\n",
        "# Creates output info.\n",
        "output_meta = _metadata_fb.TensorMetadataT()\n",
        "\n",
        "# feature\n",
        "input_meta1.name = \"EbolaContact, Bleeding, AbdominalPain, Transport\"\n",
        "input_meta1.description = (\n",
        "    \"Feature #1 - Provides information about whether a patient has been in contact with another individual diagnosed with Ebola.\\n Feature #2 - Provides information about any bleeding the patient may be experiencing. \\n Feature #3 - Provides any information about abdominal pain the patient may be experiencing\\nFeature #4 - Provides any information about transportation to care.\\n\".format(160, 160))\n",
        "input_meta1.content = _metadata_fb.ContentT()\n",
        "input_meta1.content.content_properties = _metadata_fb.FeaturePropertiesT()\n",
        "input_meta1.content.contentPropertiesType = (\n",
        "    _metadata_fb.ContentProperties.FeatureProperties)\n",
        "\n",
        "# Creates output info.\n",
        "output_meta = _metadata_fb.TensorMetadataT()\n",
        "output_meta.name = \"probability\"\n",
        "output_meta.description = \"Probabilty of having contracted Ebola.\"\n",
        "output_meta.content = _metadata_fb.ContentT()\n",
        "output_meta.content.content_properties = _metadata_fb.FeaturePropertiesT()\n",
        "output_meta.content.contentPropertiesType = (\n",
        "    _metadata_fb.ContentProperties.FeatureProperties)\n",
        "\n",
        "# Creates subgraph info.\n",
        "subgraph = _metadata_fb.SubGraphMetadataT()\n",
        "subgraph.inputTensorMetadata = [input_meta1]\n",
        "subgraph.outputTensorMetadata = [output_meta]\n",
        "model_meta.subgraphMetadata = [subgraph]\n",
        "\n",
        "b = flatbuffers.Builder(0)\n",
        "b.Finish(\n",
        "    model_meta.Pack(b),\n",
        "    _metadata.MetadataPopulator.METADATA_FILE_IDENTIFIER)\n",
        "metadata_buf = b.Output()\n",
        "\n",
        "populator = _metadata.MetadataPopulator.with_model_file(\"/content/ebola4Features.tflite\")\n",
        "populator.load_metadata_buffer(metadata_buf)\n",
        "populator.load_associated_files([\"/content/ebola4Features.tflite\"])\n",
        "populator.populate()"
      ]
    }
  ],
  "metadata": {
    "colab": {
      "provenance": []
    },
    "kernelspec": {
      "display_name": "Python 3",
      "name": "python3"
    },
    "language_info": {
      "name": "python"
    }
  },
  "nbformat": 4,
  "nbformat_minor": 0
}