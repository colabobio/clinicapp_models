{
 "cells": [
  {
   "cell_type": "code",
   "execution_count": 1,
   "id": "9d48c088-50b3-47aa-bbd4-901650bddbbf",
   "metadata": {},
   "outputs": [
    {
     "name": "stderr",
     "output_type": "stream",
     "text": [
      "2024-02-24 13:27:45.972466: I tensorflow/core/platform/cpu_feature_guard.cc:182] This TensorFlow binary is optimized to use available CPU instructions in performance-critical operations.\n",
      "To enable the following instructions: SSE4.1 SSE4.2 AVX AVX2 FMA, in other operations, rebuild TensorFlow with the appropriate compiler flags.\n"
     ]
    }
   ],
   "source": [
    "import numpy as np\n",
    "import pandas as pd\n",
    "import tensorflow as tf\n",
    "from tensorflow.keras.layers import Dense, Input, Flatten\n",
    "from scipy.interpolate import CubicSpline\n",
    "from sklearn.preprocessing import LabelEncoder"
   ]
  },
  {
   "cell_type": "code",
   "execution_count": 2,
   "id": "1c47d288-61b4-4d8c-9853-e15ec2ae2e05",
   "metadata": {},
   "outputs": [],
   "source": [
    "def my_custom_operation(inputs):\n",
    "    squared_inputs = tf.square(inputs)\n",
    "    concatenated = tf.concat([inputs, squared_inputs], axis=-1)\n",
    "    reshaped_output = tf.reshape(concatenated, [-1, 4, 1])\n",
    "    return reshaped_output"
   ]
  },
  {
   "cell_type": "code",
   "execution_count": 3,
   "id": "b6709086-11c7-4a5d-b2f6-a3d88cdcd4f0",
   "metadata": {},
   "outputs": [],
   "source": [
    "inputs = tf.keras.Input(shape=(2,1))  # Adjust the shape according to your data.\n",
    "custom_op_output = my_custom_operation(inputs)\n",
    "flattened_output = tf.keras.layers.Flatten()(custom_op_output)\n",
    "\n",
    "outputs = tf.keras.layers.Dense(1, activation='sigmoid')(flattened_output)    \n",
    "model = tf.keras.Model(inputs=inputs, outputs=outputs)\n",
    "model.compile(loss = \"binary_crossentropy\")"
   ]
  },
  {
   "cell_type": "code",
   "execution_count": 4,
   "id": "cfb4fb00-8c7a-4640-aa1d-66c7f4c08c76",
   "metadata": {},
   "outputs": [
    {
     "name": "stdout",
     "output_type": "stream",
     "text": [
      "Model: \"model\"\n",
      "__________________________________________________________________________________________________\n",
      " Layer (type)                Output Shape                 Param #   Connected to                  \n",
      "==================================================================================================\n",
      " input_1 (InputLayer)        [(None, 2, 1)]               0         []                            \n",
      "                                                                                                  \n",
      " tf.math.square (TFOpLambda  (None, 2, 1)                 0         ['input_1[0][0]']             \n",
      " )                                                                                                \n",
      "                                                                                                  \n",
      " tf.concat (TFOpLambda)      (None, 2, 2)                 0         ['input_1[0][0]',             \n",
      "                                                                     'tf.math.square[0][0]']      \n",
      "                                                                                                  \n",
      " tf.reshape (TFOpLambda)     (None, 4, 1)                 0         ['tf.concat[0][0]']           \n",
      "                                                                                                  \n",
      " flatten (Flatten)           (None, 4)                    0         ['tf.reshape[0][0]']          \n",
      "                                                                                                  \n",
      " dense (Dense)               (None, 1)                    5         ['flatten[0][0]']             \n",
      "                                                                                                  \n",
      "==================================================================================================\n",
      "Total params: 5 (20.00 Byte)\n",
      "Trainable params: 5 (20.00 Byte)\n",
      "Non-trainable params: 0 (0.00 Byte)\n",
      "__________________________________________________________________________________________________\n"
     ]
    }
   ],
   "source": [
    "weights = np.array([[-0.3806], [0.3034], [-0.2139], [0.1545]])\n",
    "bias = np.array([0]).reshape(1, )\n",
    "bias_and_weights = []\n",
    "bias_and_weights.append(weights)\n",
    "bias_and_weights.append(bias)\n",
    "model.summary()"
   ]
  },
  {
   "cell_type": "code",
   "execution_count": 9,
   "id": "340c5c6e-5b4a-4853-b68a-4e1a119bb570",
   "metadata": {},
   "outputs": [
    {
     "name": "stdout",
     "output_type": "stream",
     "text": [
      "[15.         17.          8.          7.          0.66666667  6.\n",
      "  8.         15.          5.         10.         10.          6.        ]\n",
      "[23.95 33.65 27.28 31.22 26.8  17.34 31.08 29.66 24.8  32.4  23.6  28.4 ]\n"
     ]
    }
   ],
   "source": [
    "all_data = pd.read_csv(\"spline-test.csv\", index_col=2)\n",
    "age_data = all_data['PatientAge'].values\n",
    "ct_data = all_data['CT'].values #drop the /N values instead\n",
    "print(age_data)\n",
    "print(ct_data)"
   ]
  },
  {
   "cell_type": "code",
   "execution_count": 10,
   "id": "198b54c7-af21-4e55-a1d4-4000d03685d1",
   "metadata": {},
   "outputs": [
    {
     "data": {
      "text/plain": [
       "array([[15.        , 23.95      ],\n",
       "       [17.        , 33.65      ],\n",
       "       [ 8.        , 27.28      ],\n",
       "       [ 7.        , 31.22      ],\n",
       "       [ 0.66666667, 26.8       ],\n",
       "       [ 6.        , 17.34      ],\n",
       "       [ 8.        , 31.08      ],\n",
       "       [15.        , 29.66      ],\n",
       "       [ 5.        , 24.8       ],\n",
       "       [10.        , 32.4       ],\n",
       "       [10.        , 23.6       ],\n",
       "       [ 6.        , 28.4       ]])"
      ]
     },
     "execution_count": 10,
     "metadata": {},
     "output_type": "execute_result"
    }
   ],
   "source": [
    "X = np.column_stack((age_data, ct_data))\n",
    "X"
   ]
  },
  {
   "cell_type": "code",
   "execution_count": 11,
   "id": "c6b595fe-3ceb-4872-9417-36b4c96d8a93",
   "metadata": {},
   "outputs": [
    {
     "name": "stdout",
     "output_type": "stream",
     "text": [
      "1/1 [==============================] - 0s 13ms/step\n"
     ]
    },
    {
     "data": {
      "text/plain": [
       "array([[1.],\n",
       "       [1.],\n",
       "       [1.],\n",
       "       [1.],\n",
       "       [1.],\n",
       "       [1.],\n",
       "       [1.],\n",
       "       [1.],\n",
       "       [1.],\n",
       "       [1.],\n",
       "       [1.],\n",
       "       [1.]], dtype=float32)"
      ]
     },
     "execution_count": 11,
     "metadata": {},
     "output_type": "execute_result"
    }
   ],
   "source": [
    "Y = model.predict(X)\n",
    "Y"
   ]
  },
  {
   "cell_type": "code",
   "execution_count": 14,
   "id": "d9d0ce50-fc1f-46a9-ad52-b4b658941218",
   "metadata": {},
   "outputs": [
    {
     "name": "stdout",
     "output_type": "stream",
     "text": [
      "INFO:tensorflow:Assets written to: /var/folders/4g/z3rj5j_j781_8ckvkcy7p4840000gp/T/tmpwwq42w_b/assets\n"
     ]
    },
    {
     "name": "stderr",
     "output_type": "stream",
     "text": [
      "INFO:tensorflow:Assets written to: /var/folders/4g/z3rj5j_j781_8ckvkcy7p4840000gp/T/tmpwwq42w_b/assets\n",
      "2024-02-24 13:38:04.621246: W tensorflow/compiler/mlir/lite/python/tf_tfl_flatbuffer_helpers.cc:378] Ignored output_format.\n",
      "2024-02-24 13:38:04.621258: W tensorflow/compiler/mlir/lite/python/tf_tfl_flatbuffer_helpers.cc:381] Ignored drop_control_dependency.\n",
      "2024-02-24 13:38:04.621393: I tensorflow/cc/saved_model/reader.cc:83] Reading SavedModel from: /var/folders/4g/z3rj5j_j781_8ckvkcy7p4840000gp/T/tmpwwq42w_b\n",
      "2024-02-24 13:38:04.621848: I tensorflow/cc/saved_model/reader.cc:51] Reading meta graph with tags { serve }\n",
      "2024-02-24 13:38:04.621856: I tensorflow/cc/saved_model/reader.cc:146] Reading SavedModel debug info (if present) from: /var/folders/4g/z3rj5j_j781_8ckvkcy7p4840000gp/T/tmpwwq42w_b\n",
      "2024-02-24 13:38:04.622899: I tensorflow/cc/saved_model/loader.cc:233] Restoring SavedModel bundle.\n",
      "2024-02-24 13:38:04.634078: I tensorflow/cc/saved_model/loader.cc:217] Running initialization op on SavedModel bundle at path: /var/folders/4g/z3rj5j_j781_8ckvkcy7p4840000gp/T/tmpwwq42w_b\n",
      "2024-02-24 13:38:04.638858: I tensorflow/cc/saved_model/loader.cc:316] SavedModel load for tags { serve }; Status: success: OK. Took 17464 microseconds.\n",
      "Summary on the non-converted ops:\n",
      "---------------------------------\n",
      " * Accepted dialects: tfl, builtin, func\n",
      " * Non-Converted Ops: 2, Total Ops 11, % non-converted = 18.18 %\n",
      " * 2 ARITH ops\n",
      "\n",
      "- arith.constant:    2 occurrences  (f32: 1, i32: 1)\n",
      "\n",
      "\n",
      "\n",
      "  (f32: 1)\n",
      "  (f32: 1)\n",
      "  (f32: 1)\n",
      "\n",
      "  (f32: 1)\n",
      "  (f32: 1)\n"
     ]
    }
   ],
   "source": [
    "# Convert the model.\n",
    "converter = tf.lite.TFLiteConverter.from_keras_model(model)\n",
    "converter.allow_custom_ops = False  # Ensuring only supported ops are allowed; set to True if custom ops are necessary.\n",
    "tflite_model = converter.convert()\n",
    "\n",
    "# Save the model.\n",
    "with open('test.tflite', 'wb') as f:\n",
    "  f.write(tflite_model)"
   ]
  },
  {
   "cell_type": "code",
   "execution_count": null,
   "id": "c6ce0f0e-25f4-4ce7-a405-aee794609e4f",
   "metadata": {},
   "outputs": [],
   "source": []
  }
 ],
 "metadata": {
  "kernelspec": {
   "display_name": "Python 3 (ipykernel)",
   "language": "python",
   "name": "python3"
  },
  "language_info": {
   "codemirror_mode": {
    "name": "ipython",
    "version": 3
   },
   "file_extension": ".py",
   "mimetype": "text/x-python",
   "name": "python",
   "nbconvert_exporter": "python",
   "pygments_lexer": "ipython3",
   "version": "3.11.5"
  }
 },
 "nbformat": 4,
 "nbformat_minor": 5
}
