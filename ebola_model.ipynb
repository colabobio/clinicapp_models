{
  "nbformat": 4,
  "nbformat_minor": 0,
  "metadata": {
    "colab": {
      "provenance": []
    },
    "kernelspec": {
      "name": "python3",
      "display_name": "Python 3"
    },
    "language_info": {
      "name": "python"
    }
  },
  "cells": [
    {
      "cell_type": "code",
      "execution_count": null,
      "metadata": {
        "id": "BZahAjGL2FiI"
      },
      "outputs": [],
      "source": [
        "# import libraries\n",
        "import numpy as np\n",
        "import tensorflow as tf\n",
        "\n",
        "from tensorflow.keras.models import Sequential\n",
        "from tensorflow.keras.layers import Dense, Activation, Flatten\n",
        "from tensorflow.keras.losses import BinaryCrossentropy\n",
        "from sklearn.metrics import classification_report"
      ]
    },
    {
      "cell_type": "code",
      "source": [
        "from google.colab import drive"
      ],
      "metadata": {
        "id": "TT8b6EV12GFr"
      },
      "execution_count": null,
      "outputs": []
    },
    {
      "cell_type": "code",
      "source": [
        "bias_and_weights = []\n",
        "\n",
        "#fake fourth weight for example\n",
        "new_weights = np.array([3.55366, 2.01605, -1.19409])\n",
        "new_weights = new_weights.reshape(3,1)\n",
        "bias = np.array([0]).reshape(1,)\n",
        "\n",
        "bias_and_weights.append(new_weights)\n",
        "bias_and_weights.append(bias)\n",
        "\n",
        "print(\"wanted shape:\", new_weights.shape)\n",
        "\n",
        "model = Sequential()\n",
        "model.add(Flatten(input_shape = new_weights.shape))\n",
        "model.add(Dense(1, activation = \"sigmoid\"))\n",
        "model.compile(loss = \"binary_crossentropy\")\n",
        "\n",
        "print(model.get_weights())\n",
        "\n",
        "model.set_weights(bias_and_weights)\n",
        "print(model.get_weights())\n",
        "\n",
        "model.intercept = -3.57712\n",
        "model.summary()\n",
        "\n",
        "print(\"numer of tensors: \", len(model.inputs))"
      ],
      "metadata": {
        "colab": {
          "base_uri": "https://localhost:8080/"
        },
        "id": "aSsvbpXA2HgI",
        "outputId": "6d18016e-7c14-4620-9eb5-d5c52a02b648"
      },
      "execution_count": null,
      "outputs": [
        {
          "output_type": "stream",
          "name": "stdout",
          "text": [
            "wanted shape: (3, 1)\n",
            "[array([[-0.83639896],\n",
            "       [-0.58837396],\n",
            "       [-1.1280041 ]], dtype=float32), array([0.], dtype=float32)]\n",
            "[array([[ 3.55366],\n",
            "       [ 2.01605],\n",
            "       [-1.19409]], dtype=float32), array([0.], dtype=float32)]\n",
            "Model: \"sequential_1\"\n",
            "_________________________________________________________________\n",
            " Layer (type)                Output Shape              Param #   \n",
            "=================================================================\n",
            " flatten_1 (Flatten)         (None, 3)                 0         \n",
            "                                                                 \n",
            " dense_1 (Dense)             (None, 1)                 4         \n",
            "                                                                 \n",
            "=================================================================\n",
            "Total params: 4\n",
            "Trainable params: 4\n",
            "Non-trainable params: 0\n",
            "_________________________________________________________________\n",
            "numer of tensors:  1\n"
          ]
        }
      ]
    },
    {
      "cell_type": "code",
      "source": [
        "# Convert the model.\n",
        "converter = tf.lite.TFLiteConverter.from_keras_model(model)\n",
        "tflite_model = converter.convert()\n",
        "\n",
        "# Save the model.\n",
        "with open('ebola3Features.tflite', 'wb') as f:\n",
        "  f.write(tflite_model)"
      ],
      "metadata": {
        "colab": {
          "base_uri": "https://localhost:8080/"
        },
        "id": "iGNbiUni2LvV",
        "outputId": "b9db2b56-f858-42f6-83a7-e3e47c714e02"
      },
      "execution_count": null,
      "outputs": [
        {
          "output_type": "stream",
          "name": "stderr",
          "text": [
            "WARNING:absl:Found untraced functions such as _update_step_xla while saving (showing 1 of 1). These functions will not be directly callable after loading.\n"
          ]
        }
      ]
    },
    {
      "cell_type": "code",
      "source": [
        "!pip install tflite-support-nightly"
      ],
      "metadata": {
        "colab": {
          "base_uri": "https://localhost:8080/"
        },
        "id": "6fVk4YlI2Oom",
        "outputId": "e181b99a-b8b3-48b3-98d6-611d312201c6"
      },
      "execution_count": null,
      "outputs": [
        {
          "output_type": "stream",
          "name": "stdout",
          "text": [
            "Collecting tflite-support-nightly\n",
            "  Downloading tflite_support_nightly-0.4.4.dev20230716-cp310-cp310-manylinux2014_x86_64.whl (60.8 MB)\n",
            "\u001b[2K     \u001b[90m━━━━━━━━━━━━━━━━━━━━━━━━━━━━━━━━━━━━━━━━\u001b[0m \u001b[32m60.8/60.8 MB\u001b[0m \u001b[31m8.6 MB/s\u001b[0m eta \u001b[36m0:00:00\u001b[0m\n",
            "\u001b[?25hRequirement already satisfied: absl-py>=0.7.0 in /usr/local/lib/python3.10/dist-packages (from tflite-support-nightly) (1.4.0)\n",
            "Requirement already satisfied: numpy>=1.20.0 in /usr/local/lib/python3.10/dist-packages (from tflite-support-nightly) (1.23.5)\n",
            "Requirement already satisfied: flatbuffers>=2.0 in /usr/local/lib/python3.10/dist-packages (from tflite-support-nightly) (23.5.26)\n",
            "Requirement already satisfied: protobuf<4,>=3.18.0 in /usr/local/lib/python3.10/dist-packages (from tflite-support-nightly) (3.20.3)\n",
            "Collecting sounddevice>=0.4.4 (from tflite-support-nightly)\n",
            "  Downloading sounddevice-0.4.6-py3-none-any.whl (31 kB)\n",
            "Collecting pybind11>=2.6.0 (from tflite-support-nightly)\n",
            "  Downloading pybind11-2.11.1-py3-none-any.whl (227 kB)\n",
            "\u001b[2K     \u001b[90m━━━━━━━━━━━━━━━━━━━━━━━━━━━━━━━━━━━━━━\u001b[0m \u001b[32m227.7/227.7 kB\u001b[0m \u001b[31m15.7 MB/s\u001b[0m eta \u001b[36m0:00:00\u001b[0m\n",
            "\u001b[?25hRequirement already satisfied: CFFI>=1.0 in /usr/local/lib/python3.10/dist-packages (from sounddevice>=0.4.4->tflite-support-nightly) (1.15.1)\n",
            "Requirement already satisfied: pycparser in /usr/local/lib/python3.10/dist-packages (from CFFI>=1.0->sounddevice>=0.4.4->tflite-support-nightly) (2.21)\n",
            "Installing collected packages: pybind11, sounddevice, tflite-support-nightly\n",
            "Successfully installed pybind11-2.11.1 sounddevice-0.4.6 tflite-support-nightly-0.4.4.dev20230716\n"
          ]
        }
      ]
    },
    {
      "cell_type": "code",
      "source": [
        "from tflite_support import flatbuffers\n",
        "from tflite_support import metadata as _metadata\n",
        "from tflite_support import metadata_schema_py_generated as _metadata_fb\n",
        "\n",
        "\"\"\" ... \"\"\"\n",
        "\"\"\"Creates the metadata for an image classifier.\"\"\"\n",
        "\n",
        "# Creates model info.\n",
        "model_meta = _metadata_fb.ModelMetadataT()\n",
        "model_meta.name = \"EbolaDetection\"\n",
        "model_meta.description = (\"This model diagnoses whether a patient has Ebola or not depending on the variables bleeding (anywhere on the person), previous contact with an indvidual that has Ebola, and abdominal pain.\")\n",
        "model_meta.version = \"v1\"\n",
        "model_meta.author = \"Colabo Lab\"\n",
        "\n",
        "# Creates input info.\n",
        "input_meta1 = _metadata_fb.TensorMetadataT()\n",
        "\n",
        "# Creates output info.\n",
        "output_meta = _metadata_fb.TensorMetadataT()\n",
        "\n",
        "# feature\n",
        "input_meta1.name = \"EbolaContact, Bleeding, AbdominalPain, Transport\"\n",
        "input_meta1.description = (\n",
        "    \"Feature #1 - Provides information about whether a patient has been in contact with another individual diagnosed with Ebola.\\n Feature #2 - Provides information about any bleeding the patient may be experiencing. \\n Feature #3 - Provides any information about abdominal pain the patient may be experiencing\\nFeature #4 - Provides any information about transportation to care.\\n\".format(160, 160))\n",
        "input_meta1.content = _metadata_fb.ContentT()\n",
        "input_meta1.content.content_properties = _metadata_fb.FeaturePropertiesT()\n",
        "input_meta1.content.contentPropertiesType = (\n",
        "    _metadata_fb.ContentProperties.FeatureProperties)\n",
        "\n",
        "# Creates output info.\n",
        "output_meta = _metadata_fb.TensorMetadataT()\n",
        "output_meta.name = \"probability\"\n",
        "output_meta.description = \"Probabilty of having contracted Ebola.\"\n",
        "output_meta.content = _metadata_fb.ContentT()\n",
        "output_meta.content.content_properties = _metadata_fb.FeaturePropertiesT()\n",
        "output_meta.content.contentPropertiesType = (\n",
        "    _metadata_fb.ContentProperties.FeatureProperties)\n",
        "\n",
        "# Creates subgraph info.\n",
        "subgraph = _metadata_fb.SubGraphMetadataT()\n",
        "subgraph.inputTensorMetadata = [input_meta1]\n",
        "subgraph.outputTensorMetadata = [output_meta]\n",
        "model_meta.subgraphMetadata = [subgraph]\n",
        "\n",
        "b = flatbuffers.Builder(0)\n",
        "b.Finish(\n",
        "    model_meta.Pack(b),\n",
        "    _metadata.MetadataPopulator.METADATA_FILE_IDENTIFIER)\n",
        "metadata_buf = b.Output()\n",
        "\n",
        "populator = _metadata.MetadataPopulator.with_model_file(\"/content/ebola4Features.tflite\")\n",
        "populator.load_metadata_buffer(metadata_buf)\n",
        "populator.load_associated_files([\"/content/ebola4Features.tflite\"])\n",
        "populator.populate()"
      ],
      "metadata": {
        "id": "f2pLMmhN2QEF"
      },
      "execution_count": null,
      "outputs": []
    }
  ]
}