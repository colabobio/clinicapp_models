{
 "cells": [
  {
   "cell_type": "code",
   "execution_count": 1,
   "id": "043d6813-d2ab-434a-a961-cf3a639ada45",
   "metadata": {},
   "outputs": [],
   "source": [
    "import numpy as np\n",
    "import pandas as pd\n",
    "import tensorflow as tf\n",
    "from tensorflow.keras.layers import Dense, Input\n",
    "from scipy.interpolate import CubicSpline\n",
    "from sklearn.preprocessing import LabelEncoder"
   ]
  },
  {
   "cell_type": "code",
   "execution_count": 2,
   "id": "55ae402c-642e-47a5-96bb-45f9e539e054",
   "metadata": {},
   "outputs": [
    {
     "name": "stdout",
     "output_type": "stream",
     "text": [
      "[23.95 33.65 27.28 31.22 26.8  17.34 31.08 29.66 24.8  32.4  23.6  28.4 ]\n"
     ]
    }
   ],
   "source": [
    "all_data = pd.read_csv(\"spline-test.csv\", index_col=2)\n",
    "ct_data = all_data['CT'].values #drop the /N values instead\n",
    "age_data = all_data['PatientAge'].values\n",
    "print(ct_data)"
   ]
  },
  {
   "cell_type": "code",
   "execution_count": 3,
   "id": "b47e9e08-2373-4e7e-897b-d179f227b210",
   "metadata": {},
   "outputs": [
    {
     "name": "stdout",
     "output_type": "stream",
     "text": [
      "          age     ct\n",
      "0   15.000000  23.95\n",
      "1   17.000000  33.65\n",
      "2    8.000000  27.28\n",
      "3    7.000000  31.22\n",
      "4    0.666667  26.80\n",
      "5    6.000000  17.34\n",
      "6    8.000000  31.08\n",
      "7   15.000000  29.66\n",
      "8    5.000000  24.80\n",
      "9   10.000000  32.40\n",
      "10  10.000000  23.60\n",
      "11   6.000000  28.40\n"
     ]
    }
   ],
   "source": [
    "X = pd.DataFrame()\n",
    "X['age'] = age_data\n",
    "X['ct'] = ct_data\n",
    "print(X)"
   ]
  },
  {
   "cell_type": "code",
   "execution_count": 17,
   "id": "6048f623-c506-4034-8950-6eca9d1fb5e1",
   "metadata": {},
   "outputs": [],
   "source": [
    "def cubic(u):\n",
    "    t = np.maximum(0, u)\n",
    "    return t * t * t\n",
    "    \n",
    "# Generate cubic spline basis functions\n",
    "def cubic_spline_basis_functions(x, knots):\n",
    "    k0 = knots[0]\n",
    "    k1 = knots[1]\n",
    "    k2 = knots[2]\n",
    "    c = (k2 - k0) * (k2 - k0)\n",
    "    spline_values = ((cubic(x - k0) - cubic(x - k1) * (k2 - k0)/(k2 - k1) + cubic(x - k2) * (k1 - k0)/(k2 - k1)) / c )\n",
    "    \n",
    "    # spline_functions = [CubicSpline(knots, np.eye(len(knots))[i], extrapolate=False) for i in range(len(knots))]\n",
    "    # spline_values = np.column_stack([f(x) for f in spline_functions])\n",
    "    # print(\"x\", x)\n",
    "    # print(\"knots\", knots)\n",
    "    # print(\"splines\", spline_values)\n",
    "    # print(\"*********\")\n",
    "    return spline_values"
   ]
  },
  {
   "cell_type": "code",
   "execution_count": 18,
   "id": "b4ec74d9-6e01-4ad7-a2fd-79a6df89fec4",
   "metadata": {},
   "outputs": [],
   "source": [
    "# Knots for restricted cubic splines\n",
    "age_knots = [2, 10, 16]\n",
    "ct_knots = [18.6, 25.2, 34.5]\n",
    "\n",
    "# Apply cubic spline transformations to variables\n",
    "age_spline = cubic_spline_basis_functions(age_data, age_knots)\n",
    "ct_spline = cubic_spline_basis_functions(ct_data, ct_knots)\n",
    "\n",
    "# print(age_spline)\n",
    "# print(ct_spline)"
   ]
  },
  {
   "cell_type": "code",
   "execution_count": 21,
   "id": "45cc11e9-f6fb-4949-89cc-c0638e0a3739",
   "metadata": {},
   "outputs": [],
   "source": [
    "age_coeff0 = -0.3806\n",
    "age_coeff1 = 0.3034\n",
    "\n",
    "ct_coeff0 = -0.2139\n",
    "ct_coeff1 = 0.1545"
   ]
  },
  {
   "cell_type": "code",
   "execution_count": 19,
   "id": "c0ed53fc-cf2d-4680-9bdb-1c559d003606",
   "metadata": {},
   "outputs": [
    {
     "name": "stdout",
     "output_type": "stream",
     "text": [
      "[-2.75962177 -2.48265714 -2.71044082 -2.4707051  -0.25373333 -2.18453061\n",
      " -2.71044082 -2.75962177 -1.8612051  -3.0134449  -3.0134449  -2.18453061]\n"
     ]
    }
   ],
   "source": [
    "age_term = age_coeff0 * age_data + age_coeff1 * age_spline\n",
    "print(age_term)"
   ]
  },
  {
   "cell_type": "code",
   "execution_count": 68,
   "id": "a2ebe96e-a576-49e0-8c86-9939109b438e",
   "metadata": {},
   "outputs": [
    {
     "name": "stdout",
     "output_type": "stream",
     "text": [
      "[-2.75962177 -2.48265714 -2.71044082 -2.4707051  -0.25373333 -2.18453061\n",
      " -2.71044082 -2.75962177 -1.8612051  -3.0134449  -3.0134449  -2.18453061\n",
      " -5.0293223  -5.74487714 -5.44493188 -5.67758491 -5.39984164 -3.709026\n",
      " -5.67252983 -5.61016991 -5.1590704  -5.71424722 -4.97164864 -5.5338057 ]\n"
     ]
    }
   ],
   "source": [
    "# Stack spline-transformed variables with original variables\n",
    "n = len(age_data)\n",
    "\n",
    "X = np.hstack((age_data, ct_data))\n",
    "X_with_splines = np.hstack((age_spline, ct_spline))\n",
    "spline_coff = [age_coeff1] * n + [ct_coeff1] * n\n",
    "\n",
    "linear_coff = [age_coeff0] * n + [ct_coeff0] * n\n",
    "\n",
    "spline_term = spline_coff * X_with_splines\n",
    "\n",
    "#print(X_with_splines)\n",
    "#print(spline_term)\n",
    "\n",
    "linear_term = linear_coff * X\n",
    "#print(linear_term)\n",
    "\n",
    "total_term = linear_term + spline_term\n",
    "\n",
    "print(total_term)"
   ]
  },
  {
   "cell_type": "code",
   "execution_count": 41,
   "id": "20a324fd-6bec-40b1-b800-cbd2c881155b",
   "metadata": {},
   "outputs": [
    {
     "data": {
      "text/plain": [
       "(24,)"
      ]
     },
     "execution_count": 41,
     "metadata": {},
     "output_type": "execute_result"
    }
   ],
   "source": [
    "np.shape(X_with_splines)"
   ]
  },
  {
   "cell_type": "code",
   "execution_count": 43,
   "id": "a3618090-8287-4183-980f-9c0700eb3c05",
   "metadata": {},
   "outputs": [
    {
     "data": {
      "text/plain": [
       "(12,)"
      ]
     },
     "execution_count": 43,
     "metadata": {},
     "output_type": "execute_result"
    }
   ],
   "source": [
    "np.shape(age_data)"
   ]
  },
  {
   "cell_type": "code",
   "execution_count": 88,
   "id": "d93b7315-14b1-46f1-a291-2f080d225891",
   "metadata": {},
   "outputs": [
    {
     "name": "stdout",
     "output_type": "stream",
     "text": [
      "[[-7.78894407]\n",
      " [-8.22753428]\n",
      " [-8.1553727 ]\n",
      " [-8.14829001]\n",
      " [-5.65357497]\n",
      " [-5.89355661]\n",
      " [-8.38297065]\n",
      " [-8.36979168]\n",
      " [-7.0202755 ]\n",
      " [-8.72769212]\n",
      " [-7.98509354]\n",
      " [-7.71833632]]\n"
     ]
    }
   ],
   "source": [
    "# Predefined weights and bias\n",
    "weights = np.array([[-0.3806], [0.3034], [-0.2139], [0.1545]])\n",
    "\n",
    "# data1 = np.array([age_data, age_spline, ct_data, ct_spline])\n",
    "# data = data1.reshape(12,4)\n",
    "\n",
    "data = np.column_stack((age_data, age_spline, ct_data, ct_spline))\n",
    "\n",
    "data1 = np.column_stack((age_data, ct_data))\n",
    "\n",
    "#model.layers[0].set_weights([weights])\n",
    "#standard_bias = np.array([0]).reshape(1,)\n",
    "\n",
    "#print(data1)\n",
    "# print(weights)\n",
    "# print(data)\n",
    "\n",
    "log_reg = np.dot(data, weights)\n",
    "print(log_reg)"
   ]
  },
  {
   "cell_type": "code",
   "execution_count": 92,
   "id": "b28f3d4d-233d-4920-8224-45f47c71b9b0",
   "metadata": {},
   "outputs": [
    {
     "name": "stdout",
     "output_type": "stream",
     "text": [
      "(12, 4)\n",
      "(4, 1)\n"
     ]
    }
   ],
   "source": [
    "print(data.shape)\n",
    "print(weights.shape)"
   ]
  },
  {
   "cell_type": "code",
   "execution_count": 89,
   "id": "3385f590-b2ae-41c5-becb-c3e16df9d578",
   "metadata": {},
   "outputs": [
    {
     "name": "stdout",
     "output_type": "stream",
     "text": [
      "Model: \"sequential_12\"\n",
      "_________________________________________________________________\n",
      " Layer (type)                Output Shape              Param #   \n",
      "=================================================================\n",
      " dense_11 (Dense)            (None, 12, 1)             4         \n",
      "                                                                 \n",
      "=================================================================\n",
      "Total params: 4 (16.00 Byte)\n",
      "Trainable params: 4 (16.00 Byte)\n",
      "Non-trainable params: 0 (0.00 Byte)\n",
      "_________________________________________________________________\n"
     ]
    },
    {
     "ename": "ValueError",
     "evalue": "in user code:\n\n    File \"/Users/andres/anaconda3/lib/python3.10/site-packages/keras/src/engine/training.py\", line 2341, in predict_function  *\n        return step_function(self, iterator)\n    File \"/Users/andres/anaconda3/lib/python3.10/site-packages/keras/src/engine/training.py\", line 2327, in step_function  **\n        outputs = model.distribute_strategy.run(run_step, args=(data,))\n    File \"/Users/andres/anaconda3/lib/python3.10/site-packages/keras/src/engine/training.py\", line 2315, in run_step  **\n        outputs = model.predict_step(data)\n    File \"/Users/andres/anaconda3/lib/python3.10/site-packages/keras/src/engine/training.py\", line 2283, in predict_step\n        return self(x, training=False)\n    File \"/Users/andres/anaconda3/lib/python3.10/site-packages/keras/src/utils/traceback_utils.py\", line 70, in error_handler\n        raise e.with_traceback(filtered_tb) from None\n    File \"/Users/andres/anaconda3/lib/python3.10/site-packages/keras/src/engine/input_spec.py\", line 298, in assert_input_compatibility\n        raise ValueError(\n\n    ValueError: Input 0 of layer \"sequential_12\" is incompatible with the layer: expected shape=(None, 12, 4), found shape=(None, 4)\n",
     "output_type": "error",
     "traceback": [
      "\u001b[0;31m---------------------------------------------------------------------------\u001b[0m",
      "\u001b[0;31mValueError\u001b[0m                                Traceback (most recent call last)",
      "Cell \u001b[0;32mIn[89], line 16\u001b[0m\n\u001b[1;32m     12\u001b[0m dense_layer\u001b[38;5;241m.\u001b[39mset_weights([weights])\n\u001b[1;32m     14\u001b[0m model\u001b[38;5;241m.\u001b[39msummary()\n\u001b[0;32m---> 16\u001b[0m pred \u001b[38;5;241m=\u001b[39m \u001b[43mmodel\u001b[49m\u001b[38;5;241;43m.\u001b[39;49m\u001b[43mpredict\u001b[49m\u001b[43m(\u001b[49m\u001b[43mdata\u001b[49m\u001b[43m)\u001b[49m\n",
      "File \u001b[0;32m~/anaconda3/lib/python3.10/site-packages/keras/src/utils/traceback_utils.py:70\u001b[0m, in \u001b[0;36mfilter_traceback.<locals>.error_handler\u001b[0;34m(*args, **kwargs)\u001b[0m\n\u001b[1;32m     67\u001b[0m     filtered_tb \u001b[38;5;241m=\u001b[39m _process_traceback_frames(e\u001b[38;5;241m.\u001b[39m__traceback__)\n\u001b[1;32m     68\u001b[0m     \u001b[38;5;66;03m# To get the full stack trace, call:\u001b[39;00m\n\u001b[1;32m     69\u001b[0m     \u001b[38;5;66;03m# `tf.debugging.disable_traceback_filtering()`\u001b[39;00m\n\u001b[0;32m---> 70\u001b[0m     \u001b[38;5;28;01mraise\u001b[39;00m e\u001b[38;5;241m.\u001b[39mwith_traceback(filtered_tb) \u001b[38;5;28;01mfrom\u001b[39;00m \u001b[38;5;28;01mNone\u001b[39;00m\n\u001b[1;32m     71\u001b[0m \u001b[38;5;28;01mfinally\u001b[39;00m:\n\u001b[1;32m     72\u001b[0m     \u001b[38;5;28;01mdel\u001b[39;00m filtered_tb\n",
      "File \u001b[0;32m/var/folders/dl/6khbyrbx22vfbf2s_yjt1zx80000gs/T/__autograph_generated_file2x0srqdb.py:15\u001b[0m, in \u001b[0;36mouter_factory.<locals>.inner_factory.<locals>.tf__predict_function\u001b[0;34m(iterator)\u001b[0m\n\u001b[1;32m     13\u001b[0m \u001b[38;5;28;01mtry\u001b[39;00m:\n\u001b[1;32m     14\u001b[0m     do_return \u001b[38;5;241m=\u001b[39m \u001b[38;5;28;01mTrue\u001b[39;00m\n\u001b[0;32m---> 15\u001b[0m     retval_ \u001b[38;5;241m=\u001b[39m ag__\u001b[38;5;241m.\u001b[39mconverted_call(ag__\u001b[38;5;241m.\u001b[39mld(step_function), (ag__\u001b[38;5;241m.\u001b[39mld(\u001b[38;5;28mself\u001b[39m), ag__\u001b[38;5;241m.\u001b[39mld(iterator)), \u001b[38;5;28;01mNone\u001b[39;00m, fscope)\n\u001b[1;32m     16\u001b[0m \u001b[38;5;28;01mexcept\u001b[39;00m:\n\u001b[1;32m     17\u001b[0m     do_return \u001b[38;5;241m=\u001b[39m \u001b[38;5;28;01mFalse\u001b[39;00m\n",
      "\u001b[0;31mValueError\u001b[0m: in user code:\n\n    File \"/Users/andres/anaconda3/lib/python3.10/site-packages/keras/src/engine/training.py\", line 2341, in predict_function  *\n        return step_function(self, iterator)\n    File \"/Users/andres/anaconda3/lib/python3.10/site-packages/keras/src/engine/training.py\", line 2327, in step_function  **\n        outputs = model.distribute_strategy.run(run_step, args=(data,))\n    File \"/Users/andres/anaconda3/lib/python3.10/site-packages/keras/src/engine/training.py\", line 2315, in run_step  **\n        outputs = model.predict_step(data)\n    File \"/Users/andres/anaconda3/lib/python3.10/site-packages/keras/src/engine/training.py\", line 2283, in predict_step\n        return self(x, training=False)\n    File \"/Users/andres/anaconda3/lib/python3.10/site-packages/keras/src/utils/traceback_utils.py\", line 70, in error_handler\n        raise e.with_traceback(filtered_tb) from None\n    File \"/Users/andres/anaconda3/lib/python3.10/site-packages/keras/src/engine/input_spec.py\", line 298, in assert_input_compatibility\n        raise ValueError(\n\n    ValueError: Input 0 of layer \"sequential_12\" is incompatible with the layer: expected shape=(None, 12, 4), found shape=(None, 4)\n"
     ]
    }
   ],
   "source": [
    "# Create TensorFlow model\n",
    "model = tf.keras.Sequential()\n",
    "\n",
    "dense_layer = Dense(1, use_bias=False, input_shape=data.shape)\n",
    "\n",
    "model.add(dense_layer)\n",
    "\n",
    "model.compile(loss = \"binary_crossentropy\")\n",
    "model.intercept = 6.5164\n",
    "model.build()\n",
    "\n",
    "dense_layer.set_weights([weights])\n",
    "\n",
    "model.summary()\n",
    "\n",
    "pred = model.predict(data)"
   ]
  },
  {
   "cell_type": "code",
   "execution_count": 17,
   "id": "4a17fd02-2d6e-4e05-afc2-8f9ac4d41351",
   "metadata": {},
   "outputs": [
    {
     "name": "stdout",
     "output_type": "stream",
     "text": [
      "Model: \"sequential\"\n",
      "_________________________________________________________________\n",
      " Layer (type)                Output Shape              Param #   \n",
      "=================================================================\n",
      " dense (Dense)               (None, 1)                 11        \n",
      "                                                                 \n",
      "=================================================================\n",
      "Total params: 11 (44.00 Byte)\n",
      "Trainable params: 11 (44.00 Byte)\n",
      "Non-trainable params: 0 (0.00 Byte)\n",
      "_________________________________________________________________\n",
      "1/1 [==============================] - 0s 35ms/step\n",
      "[[15.070935]\n",
      " [      nan]\n",
      " [13.767315]\n",
      " [14.376268]\n",
      " [      nan]\n",
      " [      nan]\n",
      " [14.722734]\n",
      " [17.14024 ]\n",
      " [11.27151 ]\n",
      " [16.01176 ]\n",
      " [12.97714 ]\n",
      " [12.962517]]\n"
     ]
    }
   ],
   "source": [
    "# Create TensorFlow model\n",
    "model = tf.keras.Sequential()\n",
    "# Add input layer\n",
    "#model.add(Input(shape=(X_with_splines.shape[1],)))\n",
    "# Add dense layer with predefined weights and bias\n",
    "dense_layer = Dense(1, use_bias=False, input_shape=(X_with_splines.shape[1],))\n",
    "model.add(dense_layer)\n",
    "model.compile(loss = \"binary_crossentropy\")\n",
    "model.intercept = 6.5164\n",
    "model.build(input_shape=(None, X_with_splines.shape[1]))\n",
    "# Set predefined weights\n",
    "#model.layers[1].set_weights([weights])\n",
    "dense_layer.set_weights([weights])\n",
    "# Add more layers if needed\n",
    "#model.add(Dense(64, activation=‘relu’))\n",
    "#model.add(Dense(1, activation=‘sigmoid’))\n",
    "# Print the model summary\n",
    "model.summary()\n",
    "#print(X_with_splines)\n",
    "pred = model.predict(X_with_splines)\n",
    "print(pred)"
   ]
  },
  {
   "cell_type": "code",
   "execution_count": null,
   "id": "205fd829-371b-4165-be2c-bbfda7530b94",
   "metadata": {},
   "outputs": [],
   "source": []
  }
 ],
 "metadata": {
  "kernelspec": {
   "display_name": "Python 3 (ipykernel)",
   "language": "python",
   "name": "python3"
  },
  "language_info": {
   "codemirror_mode": {
    "name": "ipython",
    "version": 3
   },
   "file_extension": ".py",
   "mimetype": "text/x-python",
   "name": "python",
   "nbconvert_exporter": "python",
   "pygments_lexer": "ipython3",
   "version": "3.10.8"
  }
 },
 "nbformat": 4,
 "nbformat_minor": 5
}
