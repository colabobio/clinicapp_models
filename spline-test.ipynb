{
 "cells": [
  {
   "cell_type": "code",
   "execution_count": 97,
   "id": "043d6813-d2ab-434a-a961-cf3a639ada45",
   "metadata": {},
   "outputs": [],
   "source": [
    "import numpy as np\n",
    "import pandas as pd\n",
    "import tensorflow as tf\n",
    "from tensorflow.keras.layers import Dense, Input, Flatten\n",
    "from scipy.interpolate import CubicSpline\n",
    "from sklearn.preprocessing import LabelEncoder"
   ]
  },
  {
   "cell_type": "code",
   "execution_count": 2,
   "id": "55ae402c-642e-47a5-96bb-45f9e539e054",
   "metadata": {},
   "outputs": [
    {
     "name": "stdout",
     "output_type": "stream",
     "text": [
      "[23.95 33.65 27.28 31.22 26.8  17.34 31.08 29.66 24.8  32.4  23.6  28.4 ]\n"
     ]
    }
   ],
   "source": [
    "all_data = pd.read_csv(\"spline-test.csv\", index_col=2)\n",
    "ct_data = all_data['CT'].values #drop the /N values instead\n",
    "age_data = all_data['PatientAge'].values\n",
    "print(ct_data)"
   ]
  },
  {
   "cell_type": "code",
   "execution_count": 3,
   "id": "b47e9e08-2373-4e7e-897b-d179f227b210",
   "metadata": {},
   "outputs": [
    {
     "name": "stdout",
     "output_type": "stream",
     "text": [
      "          age     ct\n",
      "0   15.000000  23.95\n",
      "1   17.000000  33.65\n",
      "2    8.000000  27.28\n",
      "3    7.000000  31.22\n",
      "4    0.666667  26.80\n",
      "5    6.000000  17.34\n",
      "6    8.000000  31.08\n",
      "7   15.000000  29.66\n",
      "8    5.000000  24.80\n",
      "9   10.000000  32.40\n",
      "10  10.000000  23.60\n",
      "11   6.000000  28.40\n"
     ]
    }
   ],
   "source": [
    "X = pd.DataFrame()\n",
    "X['age'] = age_data\n",
    "X['ct'] = ct_data\n",
    "print(X)"
   ]
  },
  {
   "cell_type": "code",
   "execution_count": 17,
   "id": "6048f623-c506-4034-8950-6eca9d1fb5e1",
   "metadata": {},
   "outputs": [],
   "source": [
    "def cubic(u):\n",
    "    t = np.maximum(0, u)\n",
    "    return t * t * t\n",
    "    \n",
    "# Generate cubic spline basis functions\n",
    "def cubic_spline_basis_functions(x, knots):\n",
    "    k0 = knots[0]\n",
    "    k1 = knots[1]\n",
    "    k2 = knots[2]\n",
    "    c = (k2 - k0) * (k2 - k0)\n",
    "    spline_values = ((cubic(x - k0) - cubic(x - k1) * (k2 - k0)/(k2 - k1) + cubic(x - k2) * (k1 - k0)/(k2 - k1)) / c )\n",
    "    \n",
    "    # spline_functions = [CubicSpline(knots, np.eye(len(knots))[i], extrapolate=False) for i in range(len(knots))]\n",
    "    # spline_values = np.column_stack([f(x) for f in spline_functions])\n",
    "    # print(\"x\", x)\n",
    "    # print(\"knots\", knots)\n",
    "    # print(\"splines\", spline_values)\n",
    "    # print(\"*********\")\n",
    "    return spline_values"
   ]
  },
  {
   "cell_type": "code",
   "execution_count": 18,
   "id": "b4ec74d9-6e01-4ad7-a2fd-79a6df89fec4",
   "metadata": {},
   "outputs": [],
   "source": [
    "# Knots for restricted cubic splines\n",
    "age_knots = [2, 10, 16]\n",
    "ct_knots = [18.6, 25.2, 34.5]\n",
    "\n",
    "# Apply cubic spline transformations to variables\n",
    "age_spline = cubic_spline_basis_functions(age_data, age_knots)\n",
    "ct_spline = cubic_spline_basis_functions(ct_data, ct_knots)\n",
    "\n",
    "# print(age_spline)\n",
    "# print(ct_spline)"
   ]
  },
  {
   "cell_type": "code",
   "execution_count": 21,
   "id": "45cc11e9-f6fb-4949-89cc-c0638e0a3739",
   "metadata": {},
   "outputs": [],
   "source": [
    "age_coeff0 = -0.3806\n",
    "age_coeff1 = 0.3034\n",
    "\n",
    "ct_coeff0 = -0.2139\n",
    "ct_coeff1 = 0.1545"
   ]
  },
  {
   "cell_type": "code",
   "execution_count": 19,
   "id": "c0ed53fc-cf2d-4680-9bdb-1c559d003606",
   "metadata": {},
   "outputs": [
    {
     "name": "stdout",
     "output_type": "stream",
     "text": [
      "[-2.75962177 -2.48265714 -2.71044082 -2.4707051  -0.25373333 -2.18453061\n",
      " -2.71044082 -2.75962177 -1.8612051  -3.0134449  -3.0134449  -2.18453061]\n"
     ]
    }
   ],
   "source": [
    "age_term = age_coeff0 * age_data + age_coeff1 * age_spline\n",
    "print(age_term)"
   ]
  },
  {
   "cell_type": "code",
   "execution_count": 68,
   "id": "a2ebe96e-a576-49e0-8c86-9939109b438e",
   "metadata": {},
   "outputs": [
    {
     "name": "stdout",
     "output_type": "stream",
     "text": [
      "[-2.75962177 -2.48265714 -2.71044082 -2.4707051  -0.25373333 -2.18453061\n",
      " -2.71044082 -2.75962177 -1.8612051  -3.0134449  -3.0134449  -2.18453061\n",
      " -5.0293223  -5.74487714 -5.44493188 -5.67758491 -5.39984164 -3.709026\n",
      " -5.67252983 -5.61016991 -5.1590704  -5.71424722 -4.97164864 -5.5338057 ]\n"
     ]
    }
   ],
   "source": [
    "# Stack spline-transformed variables with original variables\n",
    "n = len(age_data)\n",
    "\n",
    "X = np.hstack((age_data, ct_data))\n",
    "X_with_splines = np.hstack((age_spline, ct_spline))\n",
    "spline_coff = [age_coeff1] * n + [ct_coeff1] * n\n",
    "\n",
    "linear_coff = [age_coeff0] * n + [ct_coeff0] * n\n",
    "\n",
    "spline_term = spline_coff * X_with_splines\n",
    "\n",
    "#print(X_with_splines)\n",
    "#print(spline_term)\n",
    "\n",
    "linear_term = linear_coff * X\n",
    "#print(linear_term)\n",
    "\n",
    "total_term = linear_term + spline_term\n",
    "\n",
    "print(total_term)"
   ]
  },
  {
   "cell_type": "code",
   "execution_count": 41,
   "id": "20a324fd-6bec-40b1-b800-cbd2c881155b",
   "metadata": {},
   "outputs": [
    {
     "data": {
      "text/plain": [
       "(24,)"
      ]
     },
     "execution_count": 41,
     "metadata": {},
     "output_type": "execute_result"
    }
   ],
   "source": [
    "np.shape(X_with_splines)"
   ]
  },
  {
   "cell_type": "code",
   "execution_count": 43,
   "id": "a3618090-8287-4183-980f-9c0700eb3c05",
   "metadata": {},
   "outputs": [
    {
     "data": {
      "text/plain": [
       "(12,)"
      ]
     },
     "execution_count": 43,
     "metadata": {},
     "output_type": "execute_result"
    }
   ],
   "source": [
    "np.shape(age_data)"
   ]
  },
  {
   "cell_type": "code",
   "execution_count": 88,
   "id": "d93b7315-14b1-46f1-a291-2f080d225891",
   "metadata": {},
   "outputs": [
    {
     "name": "stdout",
     "output_type": "stream",
     "text": [
      "[[-7.78894407]\n",
      " [-8.22753428]\n",
      " [-8.1553727 ]\n",
      " [-8.14829001]\n",
      " [-5.65357497]\n",
      " [-5.89355661]\n",
      " [-8.38297065]\n",
      " [-8.36979168]\n",
      " [-7.0202755 ]\n",
      " [-8.72769212]\n",
      " [-7.98509354]\n",
      " [-7.71833632]]\n"
     ]
    }
   ],
   "source": [
    "# Predefined weights and bias\n",
    "weights = np.array([[-0.3806], [0.3034], [-0.2139], [0.1545]])\n",
    "\n",
    "# data1 = np.array([age_data, age_spline, ct_data, ct_spline])\n",
    "# data = data1.reshape(12,4)\n",
    "\n",
    "data = np.column_stack((age_data, age_spline, ct_data, ct_spline))\n",
    "\n",
    "data1 = np.column_stack((age_data, ct_data))\n",
    "\n",
    "#model.layers[0].set_weights([weights])\n",
    "#standard_bias = np.array([0]).reshape(1,)\n",
    "\n",
    "#print(data1)\n",
    "# print(weights)\n",
    "# print(data)\n",
    "\n",
    "log_reg = np.dot(data, weights)\n",
    "print(log_reg)"
   ]
  },
  {
   "cell_type": "code",
   "execution_count": 92,
   "id": "b28f3d4d-233d-4920-8224-45f47c71b9b0",
   "metadata": {},
   "outputs": [
    {
     "name": "stdout",
     "output_type": "stream",
     "text": [
      "(12, 4)\n",
      "(4, 1)\n"
     ]
    }
   ],
   "source": [
    "print(data.shape)\n",
    "print(weights.shape)"
   ]
  },
  {
   "cell_type": "code",
   "execution_count": 109,
   "id": "3385f590-b2ae-41c5-becb-c3e16df9d578",
   "metadata": {},
   "outputs": [
    {
     "name": "stdout",
     "output_type": "stream",
     "text": [
      "wanted shape: (4, 1)\n",
      "[array([[0.5481663 ],\n",
      "       [0.8822017 ],\n",
      "       [1.0079076 ],\n",
      "       [0.84452987]], dtype=float32), array([0.], dtype=float32)]\n",
      "[array([[-0.3806],\n",
      "       [ 0.3034],\n",
      "       [-0.2139],\n",
      "       [ 0.1545]], dtype=float32), array([0.], dtype=float32)]\n",
      "Model: \"sequential_28\"\n",
      "_________________________________________________________________\n",
      " Layer (type)                Output Shape              Param #   \n",
      "=================================================================\n",
      " flatten_11 (Flatten)        (None, 4)                 0         \n",
      "                                                                 \n",
      " dense_21 (Dense)            (None, 1)                 5         \n",
      "                                                                 \n",
      "=================================================================\n",
      "Total params: 5 (20.00 Byte)\n",
      "Trainable params: 5 (20.00 Byte)\n",
      "Non-trainable params: 0 (0.00 Byte)\n",
      "_________________________________________________________________\n",
      "number of tensors: 1\n",
      "1/1 [==============================] - 0s 22ms/step\n"
     ]
    },
    {
     "data": {
      "text/plain": [
       "array([[0.00041412],\n",
       "       [0.00026712],\n",
       "       [0.00028711],\n",
       "       [0.00028915],\n",
       "       [0.00349272],\n",
       "       [0.00274957],\n",
       "       [0.00022868],\n",
       "       [0.00023171],\n",
       "       [0.00089278],\n",
       "       [0.00016201],\n",
       "       [0.00034038],\n",
       "       [0.0004444 ]], dtype=float32)"
      ]
     },
     "execution_count": 109,
     "metadata": {},
     "output_type": "execute_result"
    }
   ],
   "source": [
    "# Create TensorFlow model\n",
    "bias = np.array([0]).reshape(1, )\n",
    "\n",
    "bias_and_weights = []\n",
    "bias_and_weights.append(weights)\n",
    "bias_and_weights.append(bias)\n",
    "\n",
    "print(\"wanted shape:\", weights.shape)\n",
    "\n",
    "model = tf.keras.Sequential()\n",
    "model.add(Flatten(input_shape=weights.shape))\n",
    "model.add(Dense(1, activation=\"sigmoid\"))\n",
    "model.compile(loss = \"binary_crossentropy\")\n",
    "\n",
    "print(model.get_weights())\n",
    "model.set_weights(bias_and_weights)\n",
    "print(model.get_weights())\n",
    "\n",
    "model.intercept = 6.5164\n",
    "model.summary()\n",
    "\n",
    "print(\"number of tensors:\", len(model.inputs))\n",
    "\n",
    "#dense_layer = Dense(1, use_bias=False, input_shape=data.shape)\n",
    "\n",
    "#model.add(dense_layer)\n",
    "\n",
    "#model.compile(loss = \"binary_crossentropy\")\n",
    "#model.intercept = 6.5164\n",
    "#model.build()\n",
    "\n",
    "#dense_layer.set_weights([weights])\n",
    "\n",
    "#model.summary()\n",
    "\n",
    "pred = model.predict(data)\n",
    "\n",
    "pred"
   ]
  }
 ],
 "metadata": {
  "kernelspec": {
   "display_name": "Python 3 (ipykernel)",
   "language": "python",
   "name": "python3"
  },
  "language_info": {
   "codemirror_mode": {
    "name": "ipython",
    "version": 3
   },
   "file_extension": ".py",
   "mimetype": "text/x-python",
   "name": "python",
   "nbconvert_exporter": "python",
   "pygments_lexer": "ipython3",
   "version": "3.10.8"
  }
 },
 "nbformat": 4,
 "nbformat_minor": 5
}
