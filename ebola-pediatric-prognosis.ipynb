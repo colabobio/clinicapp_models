{
 "cells": [
  {
   "cell_type": "code",
   "execution_count": 1,
   "id": "b69355f4-e961-4e0d-af85-611e645313f9",
   "metadata": {},
   "outputs": [
    {
     "name": "stderr",
     "output_type": "stream",
     "text": [
      "2024-08-02 00:30:57.278000: I tensorflow/core/platform/cpu_feature_guard.cc:182] This TensorFlow binary is optimized to use available CPU instructions in performance-critical operations.\n",
      "To enable the following instructions: SSE4.1 SSE4.2 AVX AVX2 FMA, in other operations, rebuild TensorFlow with the appropriate compiler flags.\n"
     ]
    },
    {
     "name": "stdout",
     "output_type": "stream",
     "text": [
      "TensorFlow version: 2.15.0\n",
      "Keras version: 2.15.0\n"
     ]
    }
   ],
   "source": [
    "import tensorflow as tf\n",
    "print(\"TensorFlow version:\", tf.__version__)\n",
    "\n",
    "import keras\n",
    "print(\"Keras version:\", keras.__version__)\n",
    "\n",
    "import numpy as np\n",
    "import pandas as pd\n",
    "\n",
    "from sklearn.metrics import confusion_matrix, classification_report, accuracy_score, roc_auc_score, roc_curve\n",
    "import matplotlib.pyplot as plt"
   ]
  },
  {
   "cell_type": "code",
   "execution_count": 2,
   "id": "00c0e1dd-3bda-43c2-a36e-02347e61ac3b",
   "metadata": {},
   "outputs": [],
   "source": [
    "class RestrictedCubicSplineWith3KnotPositions(tf.keras.layers.Layer):\n",
    "    def __init__(self, knots, **kwargs):\n",
    "        super(RestrictedCubicSplineWith3KnotPositions, self).__init__(**kwargs)\n",
    "        self.knots = tf.constant(knots, dtype=tf.float32)        \n",
    "\n",
    "    def call(self, inputs):\n",
    "        x = inputs\n",
    "        knots = self.knots\n",
    "        \n",
    "        k0 = knots[0]\n",
    "        k1 = knots[1]\n",
    "        k2 = knots[2]\n",
    "        c = (k2 - k0) * (k2 - k0)\n",
    "        \n",
    "        # Calculate basis functions\n",
    "        y = ((tf.maximum(x - k0, 0)**3 - tf.maximum(x - k1, 0)**3 * (k2 - k0)/(k2 - k1) + tf.maximum(x - k2, 0)**3 * (k1 - k0)/(k2 - k1)) / c)\n",
    "        basis = [x, y]\n",
    "        \n",
    "        return tf.stack(basis, axis=-1)"
   ]
  },
  {
   "cell_type": "code",
   "execution_count": 3,
   "id": "13b2ec60-b968-4184-bbae-3981cb365505",
   "metadata": {},
   "outputs": [],
   "source": [
    "# Model parameters\n",
    "\n",
    "age_knots = [2, 10, 16] # The position of the knots for age \n",
    "ct_knots = [18.6, 25.2, 34.5] # The position of the knots for CT \n",
    "bias = np.array([6.5164]).reshape(1, ) # The intercept\n",
    "weights = np.array([[-0.3806], [0.3034], [-0.2139], [0.1545], [0.3245], [0.2672], [0.3624], [0.427]]) # The features' coefficients\n",
    "features = ['PatientAge', 'CT', 'AnyBleeding', 'Diarrhoea', 'Breathlessness', 'SwallowingProblems']\n",
    "out_var = 'S7.FinalStatus'\n",
    "\n",
    "var_dict = {\n",
    "  'Death':out_var,\n",
    "  'PatientAge':'AD.Age',\n",
    "  'CT':'Lab.CtNP.D1',\n",
    "  'AnyBleeding':'S2.Bleeding',\n",
    "  'Diarrhoea':'S2.Diarrhea',\n",
    "  'Breathlessness':'S2.DifficultyBreathing', \n",
    "  'SwallowingProblems':'S2.DifficultySwallowing'\\\n",
    "}"
   ]
  },
  {
   "cell_type": "code",
   "execution_count": 4,
   "id": "5a870ec8-355e-4925-97ca-35d2759b7d33",
   "metadata": {},
   "outputs": [],
   "source": [
    "# Define inputs\n",
    "input_rcs_age = tf.keras.Input(shape=(1,), name=\"input_rcs_age\")\n",
    "input_rcs_ct = tf.keras.Input(shape=(1,), name=\"input_rcs_ct\")\n",
    "input_linear_feats = tf.keras.Input(shape=(4,), name=\"input_linear_feats\")\n",
    "\n",
    "# Apply RCS transformation\n",
    "input_rcs_age_transformed = RestrictedCubicSplineWith3KnotPositions(age_knots)(input_rcs_age)\n",
    "input_rcs_ct_transformed = RestrictedCubicSplineWith3KnotPositions(ct_knots)(input_rcs_ct)\n",
    "\n",
    "# Reshape RCS-transformed features to match the shape of untouched features\n",
    "input_rcs_age_transformed = tf.keras.layers.Reshape((-1,))(input_rcs_age_transformed)\n",
    "input_rcs_ct_transformed = tf.keras.layers.Reshape((-1,))(input_rcs_ct_transformed)\n",
    "\n",
    "# Combine RCS-transformed features with linear features\n",
    "combined_features = tf.keras.layers.Concatenate()([input_rcs_age_transformed, input_rcs_ct_transformed, input_linear_feats])"
   ]
  },
  {
   "cell_type": "code",
   "execution_count": 5,
   "id": "1bc64d16-39ab-4c65-b595-1a5769662213",
   "metadata": {},
   "outputs": [
    {
     "name": "stdout",
     "output_type": "stream",
     "text": [
      "Model: \"ebola-pediatric-prognosis\"\n",
      "__________________________________________________________________________________________________\n",
      " Layer (type)                Output Shape                 Param #   Connected to                  \n",
      "==================================================================================================\n",
      " input_rcs_age (InputLayer)  [(None, 1)]                  0         []                            \n",
      "                                                                                                  \n",
      " input_rcs_ct (InputLayer)   [(None, 1)]                  0         []                            \n",
      "                                                                                                  \n",
      " restricted_cubic_spline_wi  (None, 1, 2)                 0         ['input_rcs_age[0][0]']       \n",
      " th3_knot_positions (Restri                                                                       \n",
      " ctedCubicSplineWith3KnotPo                                                                       \n",
      " sitions)                                                                                         \n",
      "                                                                                                  \n",
      " restricted_cubic_spline_wi  (None, 1, 2)                 0         ['input_rcs_ct[0][0]']        \n",
      " th3_knot_positions_1 (Rest                                                                       \n",
      " rictedCubicSplineWith3Knot                                                                       \n",
      " Positions)                                                                                       \n",
      "                                                                                                  \n",
      " reshape (Reshape)           (None, 2)                    0         ['restricted_cubic_spline_with\n",
      "                                                                    3_knot_positions[0][0]']      \n",
      "                                                                                                  \n",
      " reshape_1 (Reshape)         (None, 2)                    0         ['restricted_cubic_spline_with\n",
      "                                                                    3_knot_positions_1[0][0]']    \n",
      "                                                                                                  \n",
      " input_linear_feats (InputL  [(None, 4)]                  0         []                            \n",
      " ayer)                                                                                            \n",
      "                                                                                                  \n",
      " concatenate (Concatenate)   (None, 8)                    0         ['reshape[0][0]',             \n",
      "                                                                     'reshape_1[0][0]',           \n",
      "                                                                     'input_linear_feats[0][0]']  \n",
      "                                                                                                  \n",
      " logreg (Dense)              (None, 1)                    9         ['concatenate[0][0]']         \n",
      "                                                                                                  \n",
      "==================================================================================================\n",
      "Total params: 9 (36.00 Byte)\n",
      "Trainable params: 9 (36.00 Byte)\n",
      "Non-trainable params: 0 (0.00 Byte)\n",
      "__________________________________________________________________________________________________\n"
     ]
    }
   ],
   "source": [
    "# Define the logistic regression model\n",
    "outputs = tf.keras.layers.Dense(1, activation=\"sigmoid\", name=\"logreg\")(combined_features)\n",
    "model = tf.keras.Model(inputs=[input_rcs_age, input_rcs_ct, input_linear_feats], outputs=outputs, name=\"ebola-pediatric-prognosis\")\n",
    "model.compile(loss = \"binary_crossentropy\")\n",
    "model.summary()"
   ]
  },
  {
   "cell_type": "code",
   "execution_count": 6,
   "id": "13c5bc47-831e-4e5a-93f3-28ac117a689d",
   "metadata": {},
   "outputs": [
    {
     "data": {
      "text/plain": [
       "[array([[-0.3806],\n",
       "        [ 0.3034],\n",
       "        [-0.2139],\n",
       "        [ 0.1545],\n",
       "        [ 0.3245],\n",
       "        [ 0.2672],\n",
       "        [ 0.3624],\n",
       "        [ 0.427 ]], dtype=float32),\n",
       " array([6.5164], dtype=float32)]"
      ]
     },
     "execution_count": 6,
     "metadata": {},
     "output_type": "execute_result"
    }
   ],
   "source": [
    "model.set_weights([weights, bias])\n",
    "model.get_weights()"
   ]
  },
  {
   "cell_type": "code",
   "execution_count": 7,
   "id": "6ff4a5d7-9819-4e77-a97b-0ca4fe9632a1",
   "metadata": {},
   "outputs": [
    {
     "data": {
      "text/html": [
       "<div>\n",
       "<style scoped>\n",
       "    .dataframe tbody tr th:only-of-type {\n",
       "        vertical-align: middle;\n",
       "    }\n",
       "\n",
       "    .dataframe tbody tr th {\n",
       "        vertical-align: top;\n",
       "    }\n",
       "\n",
       "    .dataframe thead th {\n",
       "        text-align: right;\n",
       "    }\n",
       "</style>\n",
       "<table border=\"1\" class=\"dataframe\">\n",
       "  <thead>\n",
       "    <tr style=\"text-align: right;\">\n",
       "      <th></th>\n",
       "      <th>S7.FinalStatus</th>\n",
       "      <th>AD.Age</th>\n",
       "      <th>Lab.CtNP.D1</th>\n",
       "      <th>S2.Bleeding</th>\n",
       "      <th>S2.Diarrhea</th>\n",
       "      <th>S2.DifficultyBreathing</th>\n",
       "      <th>S2.DifficultySwallowing</th>\n",
       "    </tr>\n",
       "  </thead>\n",
       "  <tbody>\n",
       "    <tr>\n",
       "      <th>0</th>\n",
       "      <td>0.0</td>\n",
       "      <td>13.000</td>\n",
       "      <td>27.2</td>\n",
       "      <td>0</td>\n",
       "      <td>1</td>\n",
       "      <td>0</td>\n",
       "      <td>0</td>\n",
       "    </tr>\n",
       "    <tr>\n",
       "      <th>1</th>\n",
       "      <td>1.0</td>\n",
       "      <td>14.000</td>\n",
       "      <td>18.5</td>\n",
       "      <td>1</td>\n",
       "      <td>1</td>\n",
       "      <td>1</td>\n",
       "      <td>1</td>\n",
       "    </tr>\n",
       "    <tr>\n",
       "      <th>2</th>\n",
       "      <td>1.0</td>\n",
       "      <td>5.000</td>\n",
       "      <td>18.1</td>\n",
       "      <td>1</td>\n",
       "      <td>1</td>\n",
       "      <td>1</td>\n",
       "      <td>0</td>\n",
       "    </tr>\n",
       "    <tr>\n",
       "      <th>3</th>\n",
       "      <td>0.0</td>\n",
       "      <td>0.250</td>\n",
       "      <td>18.7</td>\n",
       "      <td>0</td>\n",
       "      <td>0</td>\n",
       "      <td>0</td>\n",
       "      <td>0</td>\n",
       "    </tr>\n",
       "    <tr>\n",
       "      <th>4</th>\n",
       "      <td>0.0</td>\n",
       "      <td>8.000</td>\n",
       "      <td>25.4</td>\n",
       "      <td>0</td>\n",
       "      <td>1</td>\n",
       "      <td>1</td>\n",
       "      <td>1</td>\n",
       "    </tr>\n",
       "    <tr>\n",
       "      <th>...</th>\n",
       "      <td>...</td>\n",
       "      <td>...</td>\n",
       "      <td>...</td>\n",
       "      <td>...</td>\n",
       "      <td>...</td>\n",
       "      <td>...</td>\n",
       "      <td>...</td>\n",
       "    </tr>\n",
       "    <tr>\n",
       "      <th>67</th>\n",
       "      <td>0.0</td>\n",
       "      <td>7.000</td>\n",
       "      <td>27.3</td>\n",
       "      <td>0</td>\n",
       "      <td>0</td>\n",
       "      <td>0</td>\n",
       "      <td>0</td>\n",
       "    </tr>\n",
       "    <tr>\n",
       "      <th>69</th>\n",
       "      <td>1.0</td>\n",
       "      <td>17.000</td>\n",
       "      <td>20.5</td>\n",
       "      <td>0</td>\n",
       "      <td>0</td>\n",
       "      <td>0</td>\n",
       "      <td>0</td>\n",
       "    </tr>\n",
       "    <tr>\n",
       "      <th>70</th>\n",
       "      <td>0.0</td>\n",
       "      <td>0.167</td>\n",
       "      <td>22.1</td>\n",
       "      <td>0</td>\n",
       "      <td>0</td>\n",
       "      <td>0</td>\n",
       "      <td>0</td>\n",
       "    </tr>\n",
       "    <tr>\n",
       "      <th>71</th>\n",
       "      <td>0.0</td>\n",
       "      <td>1.000</td>\n",
       "      <td>18.5</td>\n",
       "      <td>0</td>\n",
       "      <td>0</td>\n",
       "      <td>0</td>\n",
       "      <td>0</td>\n",
       "    </tr>\n",
       "    <tr>\n",
       "      <th>72</th>\n",
       "      <td>1.0</td>\n",
       "      <td>0.580</td>\n",
       "      <td>19.1</td>\n",
       "      <td>0</td>\n",
       "      <td>0</td>\n",
       "      <td>1</td>\n",
       "      <td>0</td>\n",
       "    </tr>\n",
       "  </tbody>\n",
       "</table>\n",
       "<p>67 rows × 7 columns</p>\n",
       "</div>"
      ],
      "text/plain": [
       "    S7.FinalStatus  AD.Age  Lab.CtNP.D1  S2.Bleeding  S2.Diarrhea  \\\n",
       "0              0.0  13.000         27.2            0            1   \n",
       "1              1.0  14.000         18.5            1            1   \n",
       "2              1.0   5.000         18.1            1            1   \n",
       "3              0.0   0.250         18.7            0            0   \n",
       "4              0.0   8.000         25.4            0            1   \n",
       "..             ...     ...          ...          ...          ...   \n",
       "67             0.0   7.000         27.3            0            0   \n",
       "69             1.0  17.000         20.5            0            0   \n",
       "70             0.0   0.167         22.1            0            0   \n",
       "71             0.0   1.000         18.5            0            0   \n",
       "72             1.0   0.580         19.1            0            0   \n",
       "\n",
       "    S2.DifficultyBreathing  S2.DifficultySwallowing  \n",
       "0                        0                        0  \n",
       "1                        1                        1  \n",
       "2                        1                        0  \n",
       "3                        0                        0  \n",
       "4                        1                        1  \n",
       "..                     ...                      ...  \n",
       "67                       0                        0  \n",
       "69                       0                        0  \n",
       "70                       0                        0  \n",
       "71                       0                        0  \n",
       "72                       1                        0  \n",
       "\n",
       "[67 rows x 7 columns]"
      ]
     },
     "execution_count": 7,
     "metadata": {},
     "output_type": "execute_result"
    }
   ],
   "source": [
    "# Loading the data\n",
    "drc_data_file = 'ebola-pediatric-prognosis/drc-data.csv'\n",
    "drc_data = pd.read_csv(drc_data_file, na_values=\"\\\\N\")\n",
    "\n",
    "columns = [out_var] + [var_dict[var] for var in features]\n",
    "\n",
    "test_data = drc_data[columns]\n",
    "complete_data = test_data.dropna()\n",
    "complete_data"
   ]
  },
  {
   "cell_type": "code",
   "execution_count": 8,
   "id": "7ed7de9b-b3d7-4c40-bebc-5faa4cb9127d",
   "metadata": {},
   "outputs": [],
   "source": [
    "all_feat_values = complete_data[complete_data.columns[1:]].values\n",
    "age_values = all_feat_values[:,0]\n",
    "ct_values = all_feat_values[:,1]\n",
    "symp_values = all_feat_values[:,2:]\n",
    "\n",
    "out_values = [int(v) for v in complete_data[complete_data.columns[0]].values]"
   ]
  },
  {
   "cell_type": "code",
   "execution_count": 9,
   "id": "08d78ecc-db1e-4416-b97e-4fdfae80b1ef",
   "metadata": {},
   "outputs": [
    {
     "name": "stdout",
     "output_type": "stream",
     "text": [
      "3/3 [==============================] - 0s 3ms/step\n"
     ]
    }
   ],
   "source": [
    "# Make predictions\n",
    "pred_probs = model.predict([age_values, ct_values, symp_values])\n",
    "pred_values = (pred_probs > 0.5).astype(\"int32\")"
   ]
  },
  {
   "cell_type": "code",
   "execution_count": 10,
   "id": "d3099555-e8a9-4d55-9f31-a9f2225f223d",
   "metadata": {},
   "outputs": [
    {
     "name": "stdout",
     "output_type": "stream",
     "text": [
      "[[19 17]\n",
      " [ 3 28]]\n",
      "              precision    recall  f1-score   support\n",
      "\n",
      "           0       0.86      0.53      0.66        36\n",
      "           1       0.62      0.90      0.74        31\n",
      "\n",
      "    accuracy                           0.70        67\n",
      "   macro avg       0.74      0.72      0.70        67\n",
      "weighted avg       0.75      0.70      0.69        67\n",
      "\n",
      "Accuracy Score: 0.7014925373134329\n",
      "ROC-AUC Score: 0.7155017921146953\n"
     ]
    }
   ],
   "source": [
    "print(confusion_matrix(out_values, pred_values))\n",
    "print(classification_report(out_values, pred_values))\n",
    "print(f'Accuracy Score: {accuracy_score(out_values, pred_values)}')\n",
    "\n",
    "roc_auc = roc_auc_score(out_values, pred_values)\n",
    "print(f'ROC-AUC Score: {roc_auc}')"
   ]
  },
  {
   "cell_type": "code",
   "execution_count": 11,
   "id": "26c9ef8b-f682-47f5-847a-b91731e1bdbe",
   "metadata": {},
   "outputs": [
    {
     "data": {
      "image/png": "[encoded data removed]",
      "text/plain": [
       "<Figure size 640x480 with 1 Axes>"
      ]
     },
     "metadata": {},
     "output_type": "display_data"
    }
   ],
   "source": [
    "fpr, tpr, _ = roc_curve(out_values, pred_values)\n",
    "plt.figure()\n",
    "plt.plot(fpr, tpr, color='darkorange', lw=2, label='ROC curve (area = %0.2f)' % roc_auc)\n",
    "plt.plot([0, 1], [0, 1], color='navy', lw=2, linestyle='--')\n",
    "plt.xlim([0.0, 1.0])\n",
    "plt.ylim([0.0, 1.05])\n",
    "plt.xlabel('False Positive Rate')\n",
    "plt.ylabel('True Positive Rate')\n",
    "plt.title('Receiver Operating Characteristic')\n",
    "plt.legend(loc=\"lower right\")\n",
    "plt.show()"
   ]
  },
  {
   "cell_type": "code",
   "execution_count": 12,
   "id": "93740cba-bd61-4f7b-a270-49f445d5d9f6",
   "metadata": {},
   "outputs": [
    {
     "name": "stdout",
     "output_type": "stream",
     "text": [
      "INFO:tensorflow:Assets written to: /var/folders/4g/z3rj5j_j781_8ckvkcy7p4840000gp/T/tmpg92gtfgo/assets\n"
     ]
    },
    {
     "name": "stderr",
     "output_type": "stream",
     "text": [
      "INFO:tensorflow:Assets written to: /var/folders/4g/z3rj5j_j781_8ckvkcy7p4840000gp/T/tmpg92gtfgo/assets\n",
      "2024-08-02 00:31:01.508184: W tensorflow/compiler/mlir/lite/python/tf_tfl_flatbuffer_helpers.cc:378] Ignored output_format.\n",
      "2024-08-02 00:31:01.508197: W tensorflow/compiler/mlir/lite/python/tf_tfl_flatbuffer_helpers.cc:381] Ignored drop_control_dependency.\n",
      "2024-08-02 00:31:01.508390: I tensorflow/cc/saved_model/reader.cc:83] Reading SavedModel from: /var/folders/4g/z3rj5j_j781_8ckvkcy7p4840000gp/T/tmpg92gtfgo\n",
      "2024-08-02 00:31:01.509446: I tensorflow/cc/saved_model/reader.cc:51] Reading meta graph with tags { serve }\n",
      "2024-08-02 00:31:01.509454: I tensorflow/cc/saved_model/reader.cc:146] Reading SavedModel debug info (if present) from: /var/folders/4g/z3rj5j_j781_8ckvkcy7p4840000gp/T/tmpg92gtfgo\n",
      "2024-08-02 00:31:01.511535: I tensorflow/compiler/mlir/mlir_graph_optimization_pass.cc:388] MLIR V1 optimization pass is not enabled\n",
      "2024-08-02 00:31:01.512026: I tensorflow/cc/saved_model/loader.cc:233] Restoring SavedModel bundle.\n",
      "2024-08-02 00:31:01.527032: I tensorflow/cc/saved_model/loader.cc:217] Running initialization op on SavedModel bundle at path: /var/folders/4g/z3rj5j_j781_8ckvkcy7p4840000gp/T/tmpg92gtfgo\n",
      "2024-08-02 00:31:01.535427: I tensorflow/cc/saved_model/loader.cc:316] SavedModel load for tags { serve }; Status: success: OK. Took 27041 microseconds.\n",
      "2024-08-02 00:31:01.550862: I tensorflow/compiler/mlir/tensorflow/utils/dump_mlir_util.cc:269] disabling MLIR crash reproducer, set env var `MLIR_CRASH_REPRODUCER_DIRECTORY` to enable.\n",
      "Summary on the non-converted ops:\n",
      "---------------------------------\n",
      " * Accepted dialects: tfl, builtin, func\n",
      " * Non-Converted Ops: 20, Total Ops 62, % non-converted = 32.26 %\n",
      " * 20 ARITH ops\n",
      "\n",
      "- arith.constant:   20 occurrences  (f32: 17, i32: 3)\n",
      "\n",
      "\n",
      "\n",
      "  (f32: 2)\n",
      "  (f32: 1)\n",
      "  (f32: 1)\n",
      "  (f32: 1)\n",
      "  (f32: 10)\n",
      "  (f32: 2, i32: 2)\n",
      "  (f32: 6)\n",
      "  (f32: 2)\n",
      "  (i32: 2)\n",
      "  (i32: 2)\n",
      "  (f32: 8)\n"
     ]
    }
   ],
   "source": [
    "# Convert and save the model.\n",
    "# DON'T RUN, IT CRASHES THE NOTEBOOK IF USING KERAS 3:\n",
    "# https://github.com/tensorflow/tensorflow/issues/64273\n",
    "\n",
    "converter = tf.lite.TFLiteConverter.from_keras_model(model)\n",
    "converter.allow_custom_ops = False  # Ensuring only supported ops are allowed; set to True if custom ops are necessary.\n",
    "tflite_model = converter.convert()\n",
    "\n",
    "with open('ebola-pediatric-prognosis/model.tflite', 'wb') as f:\n",
    "  f.write(tflite_model)"
   ]
  }
 ],
 "metadata": {
  "kernelspec": {
   "display_name": "Python 3 (ipykernel)",
   "language": "python",
   "name": "python3"
  },
  "language_info": {
   "codemirror_mode": {
    "name": "ipython",
    "version": 3
   },
   "file_extension": ".py",
   "mimetype": "text/x-python",
   "name": "python",
   "nbconvert_exporter": "python",
   "pygments_lexer": "ipython3",
   "version": "3.9.19"
  }
 },
 "nbformat": 4,
 "nbformat_minor": 5
}
