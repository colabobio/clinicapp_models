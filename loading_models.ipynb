{
 "cells": [
  {
   "cell_type": "code",
   "execution_count": 10,
   "id": "cb8c9181-8b54-46e5-973a-d7f690344bb6",
   "metadata": {},
   "outputs": [],
   "source": [
    "from logregutils import LogRegModel"
   ]
  },
  {
   "cell_type": "markdown",
   "id": "59ff39f2-9fec-49c8-a132-0c4bb60246ee",
   "metadata": {},
   "source": [
    "# Ebola pediatric diagnostic model"
   ]
  },
  {
   "cell_type": "code",
   "execution_count": 11,
   "id": "62aef14b-30ae-42c7-96ad-2688eb6707be",
   "metadata": {},
   "outputs": [
    {
     "name": "stdout",
     "output_type": "stream",
     "text": [
      "-3.5771 + 3.5537 EbolaContactYes + 1.8815 EbolaContactUnknown + 2.016 AnyBleedingYes - 1.1941 AbdominalPainYes\n"
     ]
    }
   ],
   "source": [
    "# Load the Ebola pediatric diagnostic model from the paper \n",
    "# https://pubmed.ncbi.nlm.nih.gov/35608611/\n",
    "\n",
    "ebola_diag_model = LogRegModel(\"ebola-pediatric-diagnosis/model.csv\")\n",
    "\n",
    "# This is a simple logistic regression with all linear terms, we can get the formula of the model with getFormula(n)\n",
    "# where n is the number of digits in the coefficients. This formula f(x), where x is the vector of features, is used\n",
    "# to calculate the prediction with the sigmoid function:\n",
    "# P(y = 1 | x) = 1 / (1 + exp(-f(x)))\n",
    "\n",
    "print(ebola_diag_model.getFormula(4))"
   ]
  },
  {
   "cell_type": "markdown",
   "id": "9f419bb7-7bf4-4d4f-bd07-48ec7b22b083",
   "metadata": {},
   "source": [
    "# Ebola pediatric prognostic model"
   ]
  },
  {
   "cell_type": "code",
   "execution_count": 12,
   "id": "97df2f18-dc10-4758-b3ff-82b56d23b024",
   "metadata": {},
   "outputs": [
    {
     "name": "stdout",
     "output_type": "stream",
     "text": [
      "6.5164 - 0.3806 PatientAge + 0.0015 max(PatientAge - 2.0, 0)^3 - 0.0036 max(PatientAge - 10.0, 0)^3 + 0.0021 max(PatientAge - 16.0, 0)^3 - 0.2139 CT + 0.0006 max(CT - 18.6, 0)^3 - 0.001 max(CT - 25.2, 0)^3 + 0.0004 max(CT - 34.5, 0)^3 + 0.3245 AnyBleeding + 0.2672 Diarrhoea + 0.3624 Breathlessness + 0.427 SwallowingProblems\n"
     ]
    }
   ],
   "source": [
    "# Load the Ebola pediatric prognostic model from the paper \n",
    "# https://pubmed.ncbi.nlm.nih.gov/36223331/\n",
    "\n",
    "ebola_prog_model = LogRegModel(\"ebola-pediatric-prognosis/model.csv\")\n",
    "\n",
    "# This is a more complicated model where patient age and CT (Cycle Threshold, a measure of viral load) are represented by Restricted Cubic Spline (RCS) terms.\n",
    "print(ebola_prog_model.getFormula(4))"
   ]
  },
  {
   "cell_type": "markdown",
   "id": "ab457d34-15fd-433f-b309-c3c6ba05c3ca",
   "metadata": {},
   "source": [
    "## Understanding RCS terms\n",
    "\n",
    "In the result from getFormula(), the RCS terms are fully \"expanded\", for example in the formula above, we have for patient age:\n",
    "\n",
    "```- 0.3806 PatientAge + 0.0015 max(PatientAge - 2.0, 0)^3 - 0.0036 max(PatientAge - 10.0, 0)^3 + 0.0021 max(PatientAge - 16.0, 0)^3```\n",
    "\n",
    "This formula comes from the following general form of a RCS term of order 3 involving its coefficients and knots as follows:\n",
    "\n",
    "```RCS(x, {c0, c1}, {k0, k1, k2}) = c0 * x + c1 * ( (p3(x - k0) - p3(x - k1) * (k2 - k0)/(k2 - k1) + p3(x - k2) * (k1 - k0)/(k2 - k1)) / (k2 - k0)^2 )```\n",
    "\n",
    "where x is the predictor variable, {c0, c1} the coefficients, {k0, k1, k2} the knots, and the p3(u) function is defined as: \n",
    "\n",
    "```p3(u) = max(0, u)^3```\n",
    "\n",
    "For more details about RCS, see the following course notes from the Regression Modelling Strategies book:\n",
    "\n",
    "https://hbiostat.org/rmsc/genreg.html#sec-rcspline"
   ]
  },
  {
   "cell_type": "code",
   "execution_count": null,
   "id": "a9b1b6a6-1c58-4e68-a988-f06be7327e60",
   "metadata": {},
   "outputs": [],
   "source": []
  }
 ],
 "metadata": {
  "kernelspec": {
   "display_name": "Python 3 (ipykernel)",
   "language": "python",
   "name": "python3"
  },
  "language_info": {
   "codemirror_mode": {
    "name": "ipython",
    "version": 3
   },
   "file_extension": ".py",
   "mimetype": "text/x-python",
   "name": "python",
   "nbconvert_exporter": "python",
   "pygments_lexer": "ipython3",
   "version": "3.9.12"
  }
 },
 "nbformat": 4,
 "nbformat_minor": 5
}
