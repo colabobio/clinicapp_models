{
 "cells": [
  {
   "cell_type": "code",
   "execution_count": 2,
   "id": "2af69d24-dabb-4c96-803d-abc37467f33b",
   "metadata": {},
   "outputs": [
    {
     "name": "stderr",
     "output_type": "stream",
     "text": [
      "2024-08-02 00:22:48.183083: I tensorflow/core/platform/cpu_feature_guard.cc:182] This TensorFlow binary is optimized to use available CPU instructions in performance-critical operations.\n",
      "To enable the following instructions: SSE4.1 SSE4.2 AVX AVX2 FMA, in other operations, rebuild TensorFlow with the appropriate compiler flags.\n"
     ]
    },
    {
     "name": "stdout",
     "output_type": "stream",
     "text": [
      "TensorFlow version: 2.15.0\n",
      "Keras version: 2.15.0\n"
     ]
    }
   ],
   "source": [
    "import tensorflow as tf\n",
    "print(\"TensorFlow version:\", tf.__version__)\n",
    "\n",
    "import keras\n",
    "print(\"Keras version:\", keras.__version__)\n",
    "\n",
    "import numpy as np\n",
    "import pandas as pd\n",
    "\n",
    "from sklearn.metrics import confusion_matrix, classification_report, accuracy_score, roc_auc_score, roc_curve\n",
    "import matplotlib.pyplot as plt"
   ]
  },
  {
   "cell_type": "code",
   "execution_count": 9,
   "id": "292b0b39-781f-4863-81aa-643b6df83999",
   "metadata": {},
   "outputs": [],
   "source": [
    "# Model parameters\n",
    "\n",
    "bias = np.array([-3.57712]).reshape(1, ) # The intercept\n",
    "weights = np.array([[3.55366], [1.88154], [2.01605], [-1.19409]]) # The features' coefficients\n",
    "features = ['EbolaContactYes', 'EbolaContactUnknown', 'AnyBleedingYes', 'AbdominalPainYes']\n",
    "out_var = 'Ebola'"
   ]
  },
  {
   "cell_type": "code",
   "execution_count": 4,
   "id": "890f1915-0d1f-4a61-abfa-dae012fa6e68",
   "metadata": {},
   "outputs": [],
   "source": [
    "# Define inputs\n",
    "input_feats = tf.keras.Input(shape=(4,), name=\"input_feats\")"
   ]
  },
  {
   "cell_type": "code",
   "execution_count": 6,
   "id": "99382c00-3bb3-4945-93d2-bb7281f89ded",
   "metadata": {},
   "outputs": [
    {
     "name": "stdout",
     "output_type": "stream",
     "text": [
      "Model: \"ebola-pediatric-diagnosis\"\n",
      "_________________________________________________________________\n",
      " Layer (type)                Output Shape              Param #   \n",
      "=================================================================\n",
      " input_feats (InputLayer)    [(None, 4)]               0         \n",
      "                                                                 \n",
      " logreg (Dense)              (None, 1)                 5         \n",
      "                                                                 \n",
      "=================================================================\n",
      "Total params: 5 (20.00 Byte)\n",
      "Trainable params: 5 (20.00 Byte)\n",
      "Non-trainable params: 0 (0.00 Byte)\n",
      "_________________________________________________________________\n"
     ]
    }
   ],
   "source": [
    "# Define the logistic regression model\n",
    "outputs = tf.keras.layers.Dense(1, activation=\"sigmoid\", name=\"logreg\")(input_feats)\n",
    "model = tf.keras.Model(inputs=[input_feats], outputs=outputs, name=\"ebola-pediatric-diagnosis\")\n",
    "model.compile(loss = \"binary_crossentropy\")\n",
    "model.summary()"
   ]
  },
  {
   "cell_type": "code",
   "execution_count": 7,
   "id": "3a123be8-6958-4bdb-94c7-3e25198114b7",
   "metadata": {},
   "outputs": [
    {
     "data": {
      "text/plain": [
       "[array([[ 3.55366],\n",
       "        [ 1.88154],\n",
       "        [ 2.01605],\n",
       "        [-1.19409]], dtype=float32),\n",
       " array([-3.57712], dtype=float32)]"
      ]
     },
     "execution_count": 7,
     "metadata": {},
     "output_type": "execute_result"
    }
   ],
   "source": [
    "model.set_weights([weights, bias])\n",
    "model.get_weights()"
   ]
  },
  {
   "cell_type": "code",
   "execution_count": 13,
   "id": "c838a0cf-d7c3-40e8-9396-66dfdd498eb5",
   "metadata": {},
   "outputs": [
    {
     "data": {
      "text/html": [
       "<div>\n",
       "<style scoped>\n",
       "    .dataframe tbody tr th:only-of-type {\n",
       "        vertical-align: middle;\n",
       "    }\n",
       "\n",
       "    .dataframe tbody tr th {\n",
       "        vertical-align: top;\n",
       "    }\n",
       "\n",
       "    .dataframe thead th {\n",
       "        text-align: right;\n",
       "    }\n",
       "</style>\n",
       "<table border=\"1\" class=\"dataframe\">\n",
       "  <thead>\n",
       "    <tr style=\"text-align: right;\">\n",
       "      <th></th>\n",
       "      <th>Ebola</th>\n",
       "      <th>EbolaContactYes</th>\n",
       "      <th>EbolaContactUnknown</th>\n",
       "      <th>AnyBleedingYes</th>\n",
       "      <th>AbdominalPainYes</th>\n",
       "    </tr>\n",
       "  </thead>\n",
       "  <tbody>\n",
       "    <tr>\n",
       "      <th>0</th>\n",
       "      <td>0</td>\n",
       "      <td>0</td>\n",
       "      <td>0</td>\n",
       "      <td>1</td>\n",
       "      <td>1</td>\n",
       "    </tr>\n",
       "    <tr>\n",
       "      <th>1</th>\n",
       "      <td>0</td>\n",
       "      <td>1</td>\n",
       "      <td>0</td>\n",
       "      <td>0</td>\n",
       "      <td>0</td>\n",
       "    </tr>\n",
       "    <tr>\n",
       "      <th>2</th>\n",
       "      <td>1</td>\n",
       "      <td>0</td>\n",
       "      <td>0</td>\n",
       "      <td>0</td>\n",
       "      <td>1</td>\n",
       "    </tr>\n",
       "    <tr>\n",
       "      <th>3</th>\n",
       "      <td>0</td>\n",
       "      <td>1</td>\n",
       "      <td>0</td>\n",
       "      <td>0</td>\n",
       "      <td>0</td>\n",
       "    </tr>\n",
       "    <tr>\n",
       "      <th>4</th>\n",
       "      <td>0</td>\n",
       "      <td>1</td>\n",
       "      <td>0</td>\n",
       "      <td>0</td>\n",
       "      <td>0</td>\n",
       "    </tr>\n",
       "    <tr>\n",
       "      <th>...</th>\n",
       "      <td>...</td>\n",
       "      <td>...</td>\n",
       "      <td>...</td>\n",
       "      <td>...</td>\n",
       "      <td>...</td>\n",
       "    </tr>\n",
       "    <tr>\n",
       "      <th>517</th>\n",
       "      <td>0</td>\n",
       "      <td>0</td>\n",
       "      <td>0</td>\n",
       "      <td>0</td>\n",
       "      <td>1</td>\n",
       "    </tr>\n",
       "    <tr>\n",
       "      <th>518</th>\n",
       "      <td>0</td>\n",
       "      <td>0</td>\n",
       "      <td>0</td>\n",
       "      <td>0</td>\n",
       "      <td>0</td>\n",
       "    </tr>\n",
       "    <tr>\n",
       "      <th>519</th>\n",
       "      <td>0</td>\n",
       "      <td>0</td>\n",
       "      <td>0</td>\n",
       "      <td>1</td>\n",
       "      <td>1</td>\n",
       "    </tr>\n",
       "    <tr>\n",
       "      <th>520</th>\n",
       "      <td>0</td>\n",
       "      <td>0</td>\n",
       "      <td>0</td>\n",
       "      <td>0</td>\n",
       "      <td>0</td>\n",
       "    </tr>\n",
       "    <tr>\n",
       "      <th>521</th>\n",
       "      <td>0</td>\n",
       "      <td>0</td>\n",
       "      <td>0</td>\n",
       "      <td>0</td>\n",
       "      <td>1</td>\n",
       "    </tr>\n",
       "  </tbody>\n",
       "</table>\n",
       "<p>522 rows × 5 columns</p>\n",
       "</div>"
      ],
      "text/plain": [
       "     Ebola  EbolaContactYes  EbolaContactUnknown  AnyBleedingYes  \\\n",
       "0        0                0                    0               1   \n",
       "1        0                1                    0               0   \n",
       "2        1                0                    0               0   \n",
       "3        0                1                    0               0   \n",
       "4        0                1                    0               0   \n",
       "..     ...              ...                  ...             ...   \n",
       "517      0                0                    0               0   \n",
       "518      0                0                    0               0   \n",
       "519      0                0                    0               1   \n",
       "520      0                0                    0               0   \n",
       "521      0                0                    0               0   \n",
       "\n",
       "     AbdominalPainYes  \n",
       "0                   1  \n",
       "1                   0  \n",
       "2                   1  \n",
       "3                   0  \n",
       "4                   0  \n",
       "..                ...  \n",
       "517                 1  \n",
       "518                 0  \n",
       "519                 1  \n",
       "520                 0  \n",
       "521                 1  \n",
       "\n",
       "[522 rows x 5 columns]"
      ]
     },
     "execution_count": 13,
     "metadata": {},
     "output_type": "execute_result"
    }
   ],
   "source": [
    "# Loading the data\n",
    "data_file = 'ebola-pediatric-diagnosis/data.csv'\n",
    "data = pd.read_csv(data_file, na_values=\"\\\\N\")\n",
    "\n",
    "columns = [out_var] + features\n",
    "\n",
    "test_data = data[columns]\n",
    "complete_data = test_data.dropna()\n",
    "complete_data"
   ]
  },
  {
   "cell_type": "code",
   "execution_count": 14,
   "id": "2664a231-cbf9-47f0-a9b3-36a3fa069c96",
   "metadata": {},
   "outputs": [],
   "source": [
    "feat_values = complete_data[complete_data.columns[1:]].values\n",
    "\n",
    "out_values = [int(v) for v in complete_data[complete_data.columns[0]].values]"
   ]
  },
  {
   "cell_type": "code",
   "execution_count": 18,
   "id": "49adf188-93f6-4ebe-8ba9-37804026e776",
   "metadata": {},
   "outputs": [
    {
     "name": "stdout",
     "output_type": "stream",
     "text": [
      "17/17 [==============================] - 0s 560us/step\n"
     ]
    }
   ],
   "source": [
    "# Make predictions\n",
    "pred_probs = model.predict(feat_values)\n",
    "pred_values = (pred_probs > 0.5).astype(\"int32\")"
   ]
  },
  {
   "cell_type": "code",
   "execution_count": 20,
   "id": "268dfc48-02c9-42ee-a6fa-160580bd4dba",
   "metadata": {},
   "outputs": [
    {
     "name": "stdout",
     "output_type": "stream",
     "text": [
      "[[394   8]\n",
      " [ 88  32]]\n",
      "              precision    recall  f1-score   support\n",
      "\n",
      "           0       0.82      0.98      0.89       402\n",
      "           1       0.80      0.27      0.40       120\n",
      "\n",
      "    accuracy                           0.82       522\n",
      "   macro avg       0.81      0.62      0.65       522\n",
      "weighted avg       0.81      0.82      0.78       522\n",
      "\n",
      "Accuracy Score: 0.8160919540229885\n",
      "ROC-AUC Score: 0.6233830845771143\n"
     ]
    }
   ],
   "source": [
    "print(confusion_matrix(out_values, pred_values))\n",
    "print(classification_report(out_values, pred_values))\n",
    "print(f'Accuracy Score: {accuracy_score(out_values, pred_values)}')\n",
    "\n",
    "roc_auc = roc_auc_score(out_values, pred_values)\n",
    "print(f'ROC-AUC Score: {roc_auc}')"
   ]
  },
  {
   "cell_type": "code",
   "execution_count": 21,
   "id": "cca17f1b-c837-441a-b6f1-9a82e8bb02aa",
   "metadata": {},
   "outputs": [
    {
     "data": {
      "image/png": "[encoded data removed]",
      "text/plain": [
       "<Figure size 640x480 with 1 Axes>"
      ]
     },
     "metadata": {},
     "output_type": "display_data"
    }
   ],
   "source": [
    "fpr, tpr, _ = roc_curve(out_values, pred_values)\n",
    "plt.figure()\n",
    "plt.plot(fpr, tpr, color='darkorange', lw=2, label='ROC curve (area = %0.2f)' % roc_auc)\n",
    "plt.plot([0, 1], [0, 1], color='navy', lw=2, linestyle='--')\n",
    "plt.xlim([0.0, 1.0])\n",
    "plt.ylim([0.0, 1.05])\n",
    "plt.xlabel('False Positive Rate')\n",
    "plt.ylabel('True Positive Rate')\n",
    "plt.title('Receiver Operating Characteristic')\n",
    "plt.legend(loc=\"lower right\")\n",
    "plt.show()"
   ]
  },
  {
   "cell_type": "code",
   "execution_count": 22,
   "id": "3815d6ff-74c8-4499-beaa-b4b28b685065",
   "metadata": {},
   "outputs": [
    {
     "name": "stdout",
     "output_type": "stream",
     "text": [
      "INFO:tensorflow:Assets written to: /var/folders/4g/z3rj5j_j781_8ckvkcy7p4840000gp/T/tmpjgv3rjde/assets\n"
     ]
    },
    {
     "name": "stderr",
     "output_type": "stream",
     "text": [
      "INFO:tensorflow:Assets written to: /var/folders/4g/z3rj5j_j781_8ckvkcy7p4840000gp/T/tmpjgv3rjde/assets\n",
      "2024-08-02 00:34:08.678548: W tensorflow/compiler/mlir/lite/python/tf_tfl_flatbuffer_helpers.cc:378] Ignored output_format.\n",
      "2024-08-02 00:34:08.678561: W tensorflow/compiler/mlir/lite/python/tf_tfl_flatbuffer_helpers.cc:381] Ignored drop_control_dependency.\n",
      "2024-08-02 00:34:08.678760: I tensorflow/cc/saved_model/reader.cc:83] Reading SavedModel from: /var/folders/4g/z3rj5j_j781_8ckvkcy7p4840000gp/T/tmpjgv3rjde\n",
      "2024-08-02 00:34:08.679124: I tensorflow/cc/saved_model/reader.cc:51] Reading meta graph with tags { serve }\n",
      "2024-08-02 00:34:08.679133: I tensorflow/cc/saved_model/reader.cc:146] Reading SavedModel debug info (if present) from: /var/folders/4g/z3rj5j_j781_8ckvkcy7p4840000gp/T/tmpjgv3rjde\n",
      "2024-08-02 00:34:08.680044: I tensorflow/compiler/mlir/mlir_graph_optimization_pass.cc:388] MLIR V1 optimization pass is not enabled\n",
      "2024-08-02 00:34:08.680274: I tensorflow/cc/saved_model/loader.cc:233] Restoring SavedModel bundle.\n",
      "2024-08-02 00:34:08.690793: I tensorflow/cc/saved_model/loader.cc:217] Running initialization op on SavedModel bundle at path: /var/folders/4g/z3rj5j_j781_8ckvkcy7p4840000gp/T/tmpjgv3rjde\n",
      "2024-08-02 00:34:08.694679: I tensorflow/cc/saved_model/loader.cc:316] SavedModel load for tags { serve }; Status: success: OK. Took 15924 microseconds.\n",
      "2024-08-02 00:34:08.702186: I tensorflow/compiler/mlir/tensorflow/utils/dump_mlir_util.cc:269] disabling MLIR crash reproducer, set env var `MLIR_CRASH_REPRODUCER_DIRECTORY` to enable.\n",
      "Summary on the non-converted ops:\n",
      "---------------------------------\n",
      " * Accepted dialects: tfl, builtin, func\n",
      " * Non-Converted Ops: 2, Total Ops 7, % non-converted = 28.57 %\n",
      " * 2 ARITH ops\n",
      "\n",
      "- arith.constant:    2 occurrences  (f32: 2)\n",
      "\n",
      "\n",
      "\n",
      "  (f32: 1)\n",
      "  (f32: 1)\n"
     ]
    }
   ],
   "source": [
    "# Convert and save the model.\n",
    "# DON'T RUN, IT CRASHES THE NOTEBOOK IF USING KERAS 3:\n",
    "# https://github.com/tensorflow/tensorflow/issues/64273\n",
    "\n",
    "converter = tf.lite.TFLiteConverter.from_keras_model(model)\n",
    "converter.allow_custom_ops = False  # Ensuring only supported ops are allowed; set to True if custom ops are necessary.\n",
    "tflite_model = converter.convert()\n",
    "\n",
    "with open('ebola-pediatric-diagnosis/model.tflite', 'wb') as f:\n",
    "  f.write(tflite_model)"
   ]
  }
 ],
 "metadata": {
  "kernelspec": {
   "display_name": "Python 3 (ipykernel)",
   "language": "python",
   "name": "python3"
  },
  "language_info": {
   "codemirror_mode": {
    "name": "ipython",
    "version": 3
   },
   "file_extension": ".py",
   "mimetype": "text/x-python",
   "name": "python",
   "nbconvert_exporter": "python",
   "pygments_lexer": "ipython3",
   "version": "3.9.19"
  }
 },
 "nbformat": 4,
 "nbformat_minor": 5
}
